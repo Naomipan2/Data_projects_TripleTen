{
 "cells": [
  {
   "cell_type": "markdown",
   "id": "e6dfb6f1-f90b-4b33-a638-c57b745d703b",
   "metadata": {},
   "source": [
    "## Market Value Prediction of Used Cars\n",
    "\n",
    "Rusty Bargain used car sales service is developing an app to attract new customers. In that app, you can quickly find out the market value of your car. You have access to historical data: technical specifications, trim versions, and prices. You need to build the model to determine the value.\n",
    "\n",
    "Rusty Bargain is interested in:\n",
    "\n",
    "the quality of the prediction the speed of the prediction the time required for training"
   ]
  },
  {
   "cell_type": "markdown",
   "id": "381c6423-647b-45ff-8f11-e1cd73fdcc4d",
   "metadata": {},
   "source": [
    "### Data Preprocessing & Exploration\n",
    "\n",
    "## Initialization"
   ]
  },
  {
   "cell_type": "code",
   "execution_count": 1,
   "id": "e553f21f-4c84-46ee-9478-95efc2c64842",
   "metadata": {},
   "outputs": [
    {
     "ename": "ImportError",
     "evalue": "Error importing numpy: you should not try to import numpy from\n        its source directory; please exit the numpy source tree, and relaunch\n        your python interpreter from there.",
     "output_type": "error",
     "traceback": [
      "\u001b[0;31m---------------------------------------------------------------------------\u001b[0m",
      "\u001b[0;31mImportError\u001b[0m                               Traceback (most recent call last)",
      "File \u001b[0;32m~/Library/Python/3.12/lib/python/site-packages/numpy/_core/__init__.py:23\u001b[0m\n\u001b[1;32m     22\u001b[0m \u001b[38;5;28;01mtry\u001b[39;00m:\n\u001b[0;32m---> 23\u001b[0m     \u001b[38;5;28;01mfrom\u001b[39;00m \u001b[38;5;21;01m.\u001b[39;00m \u001b[38;5;28;01mimport\u001b[39;00m multiarray\n\u001b[1;32m     24\u001b[0m \u001b[38;5;28;01mexcept\u001b[39;00m \u001b[38;5;167;01mImportError\u001b[39;00m \u001b[38;5;28;01mas\u001b[39;00m exc:\n",
      "File \u001b[0;32m~/Library/Python/3.12/lib/python/site-packages/numpy/_core/multiarray.py:10\u001b[0m\n\u001b[1;32m      9\u001b[0m \u001b[38;5;28;01mimport\u001b[39;00m \u001b[38;5;21;01mfunctools\u001b[39;00m\n\u001b[0;32m---> 10\u001b[0m \u001b[38;5;28;01mfrom\u001b[39;00m \u001b[38;5;21;01m.\u001b[39;00m \u001b[38;5;28;01mimport\u001b[39;00m overrides\n\u001b[1;32m     11\u001b[0m \u001b[38;5;28;01mfrom\u001b[39;00m \u001b[38;5;21;01m.\u001b[39;00m \u001b[38;5;28;01mimport\u001b[39;00m _multiarray_umath\n",
      "File \u001b[0;32m~/Library/Python/3.12/lib/python/site-packages/numpy/_core/overrides.py:7\u001b[0m\n\u001b[1;32m      6\u001b[0m \u001b[38;5;28;01mfrom\u001b[39;00m \u001b[38;5;21;01m.\u001b[39;00m\u001b[38;5;21;01m.\u001b[39;00m\u001b[38;5;21;01m_utils\u001b[39;00m\u001b[38;5;21;01m.\u001b[39;00m\u001b[38;5;21;01m_inspect\u001b[39;00m \u001b[38;5;28;01mimport\u001b[39;00m getargspec\n\u001b[0;32m----> 7\u001b[0m \u001b[38;5;28;01mfrom\u001b[39;00m \u001b[38;5;21;01mnumpy\u001b[39;00m\u001b[38;5;21;01m.\u001b[39;00m\u001b[38;5;21;01m_core\u001b[39;00m\u001b[38;5;21;01m.\u001b[39;00m\u001b[38;5;21;01m_multiarray_umath\u001b[39;00m \u001b[38;5;28;01mimport\u001b[39;00m (\n\u001b[1;32m      8\u001b[0m     add_docstring,  _get_implementing_args, _ArrayFunctionDispatcher)\n\u001b[1;32m     11\u001b[0m ARRAY_FUNCTIONS \u001b[38;5;241m=\u001b[39m \u001b[38;5;28mset\u001b[39m()\n",
      "\u001b[0;31mImportError\u001b[0m: dlopen(/Users/naomipan/Library/Python/3.12/lib/python/site-packages/numpy/_core/_multiarray_umath.cpython-312-darwin.so, 0x0002): tried: '/Users/naomipan/Library/Python/3.12/lib/python/site-packages/numpy/_core/_multiarray_umath.cpython-312-darwin.so' (mach-o file, but is an incompatible architecture (have 'arm64', need 'x86_64')), '/System/Volumes/Preboot/Cryptexes/OS/Users/naomipan/Library/Python/3.12/lib/python/site-packages/numpy/_core/_multiarray_umath.cpython-312-darwin.so' (no such file), '/Users/naomipan/Library/Python/3.12/lib/python/site-packages/numpy/_core/_multiarray_umath.cpython-312-darwin.so' (mach-o file, but is an incompatible architecture (have 'arm64', need 'x86_64'))",
      "\nDuring handling of the above exception, another exception occurred:\n",
      "\u001b[0;31mImportError\u001b[0m                               Traceback (most recent call last)",
      "File \u001b[0;32m~/Library/Python/3.12/lib/python/site-packages/numpy/__init__.py:114\u001b[0m\n\u001b[1;32m    113\u001b[0m \u001b[38;5;28;01mtry\u001b[39;00m:\n\u001b[0;32m--> 114\u001b[0m     \u001b[38;5;28;01mfrom\u001b[39;00m \u001b[38;5;21;01mnumpy\u001b[39;00m\u001b[38;5;21;01m.\u001b[39;00m\u001b[38;5;21;01m__config__\u001b[39;00m \u001b[38;5;28;01mimport\u001b[39;00m show_config\n\u001b[1;32m    115\u001b[0m \u001b[38;5;28;01mexcept\u001b[39;00m \u001b[38;5;167;01mImportError\u001b[39;00m \u001b[38;5;28;01mas\u001b[39;00m e:\n",
      "File \u001b[0;32m~/Library/Python/3.12/lib/python/site-packages/numpy/__config__.py:4\u001b[0m\n\u001b[1;32m      3\u001b[0m \u001b[38;5;28;01mfrom\u001b[39;00m \u001b[38;5;21;01menum\u001b[39;00m \u001b[38;5;28;01mimport\u001b[39;00m Enum\n\u001b[0;32m----> 4\u001b[0m \u001b[38;5;28;01mfrom\u001b[39;00m \u001b[38;5;21;01mnumpy\u001b[39;00m\u001b[38;5;21;01m.\u001b[39;00m\u001b[38;5;21;01m_core\u001b[39;00m\u001b[38;5;21;01m.\u001b[39;00m\u001b[38;5;21;01m_multiarray_umath\u001b[39;00m \u001b[38;5;28;01mimport\u001b[39;00m (\n\u001b[1;32m      5\u001b[0m     __cpu_features__,\n\u001b[1;32m      6\u001b[0m     __cpu_baseline__,\n\u001b[1;32m      7\u001b[0m     __cpu_dispatch__,\n\u001b[1;32m      8\u001b[0m )\n\u001b[1;32m     10\u001b[0m __all__ \u001b[38;5;241m=\u001b[39m [\u001b[38;5;124m\"\u001b[39m\u001b[38;5;124mshow_config\u001b[39m\u001b[38;5;124m\"\u001b[39m]\n",
      "File \u001b[0;32m~/Library/Python/3.12/lib/python/site-packages/numpy/_core/__init__.py:49\u001b[0m\n\u001b[1;32m     26\u001b[0m     msg \u001b[38;5;241m=\u001b[39m \u001b[38;5;124m\"\"\"\u001b[39m\n\u001b[1;32m     27\u001b[0m \n\u001b[1;32m     28\u001b[0m \u001b[38;5;124mIMPORTANT: PLEASE READ THIS FOR ADVICE ON HOW TO SOLVE THIS ISSUE!\u001b[39m\n\u001b[0;32m   (...)\u001b[0m\n\u001b[1;32m     47\u001b[0m \u001b[38;5;124m\"\"\"\u001b[39m \u001b[38;5;241m%\u001b[39m (sys\u001b[38;5;241m.\u001b[39mversion_info[\u001b[38;5;241m0\u001b[39m], sys\u001b[38;5;241m.\u001b[39mversion_info[\u001b[38;5;241m1\u001b[39m], sys\u001b[38;5;241m.\u001b[39mexecutable,\n\u001b[1;32m     48\u001b[0m         __version__, exc)\n\u001b[0;32m---> 49\u001b[0m     \u001b[38;5;28;01mraise\u001b[39;00m \u001b[38;5;167;01mImportError\u001b[39;00m(msg)\n\u001b[1;32m     50\u001b[0m \u001b[38;5;28;01mfinally\u001b[39;00m:\n",
      "\u001b[0;31mImportError\u001b[0m: \n\nIMPORTANT: PLEASE READ THIS FOR ADVICE ON HOW TO SOLVE THIS ISSUE!\n\nImporting the numpy C-extensions failed. This error can happen for\nmany reasons, often due to issues with your setup or how NumPy was\ninstalled.\n\nWe have compiled some common reasons and troubleshooting tips at:\n\n    https://numpy.org/devdocs/user/troubleshooting-importerror.html\n\nPlease note and check the following:\n\n  * The Python version is: Python3.12 from \"/usr/local/bin/python3\"\n  * The NumPy version is: \"2.2.4\"\n\nand make sure that they are the versions you expect.\nPlease carefully study the documentation linked above for further help.\n\nOriginal error was: dlopen(/Users/naomipan/Library/Python/3.12/lib/python/site-packages/numpy/_core/_multiarray_umath.cpython-312-darwin.so, 0x0002): tried: '/Users/naomipan/Library/Python/3.12/lib/python/site-packages/numpy/_core/_multiarray_umath.cpython-312-darwin.so' (mach-o file, but is an incompatible architecture (have 'arm64', need 'x86_64')), '/System/Volumes/Preboot/Cryptexes/OS/Users/naomipan/Library/Python/3.12/lib/python/site-packages/numpy/_core/_multiarray_umath.cpython-312-darwin.so' (no such file), '/Users/naomipan/Library/Python/3.12/lib/python/site-packages/numpy/_core/_multiarray_umath.cpython-312-darwin.so' (mach-o file, but is an incompatible architecture (have 'arm64', need 'x86_64'))\n",
      "\nThe above exception was the direct cause of the following exception:\n",
      "\u001b[0;31mImportError\u001b[0m                               Traceback (most recent call last)",
      "Cell \u001b[0;32mIn[1], line 1\u001b[0m\n\u001b[0;32m----> 1\u001b[0m \u001b[38;5;28;01mimport\u001b[39;00m \u001b[38;5;21;01mnumpy\u001b[39;00m \u001b[38;5;28;01mas\u001b[39;00m \u001b[38;5;21;01mnp\u001b[39;00m\n\u001b[1;32m      2\u001b[0m \u001b[38;5;28;01mimport\u001b[39;00m \u001b[38;5;21;01mpandas\u001b[39;00m \u001b[38;5;28;01mas\u001b[39;00m \u001b[38;5;21;01mpd\u001b[39;00m\n\u001b[1;32m      3\u001b[0m \u001b[38;5;28;01mimport\u001b[39;00m \u001b[38;5;21;01mlightgbm\u001b[39;00m \u001b[38;5;28;01mas\u001b[39;00m \u001b[38;5;21;01mlgb\u001b[39;00m\n",
      "File \u001b[0;32m~/Library/Python/3.12/lib/python/site-packages/numpy/__init__.py:119\u001b[0m\n\u001b[1;32m    115\u001b[0m \u001b[38;5;28;01mexcept\u001b[39;00m \u001b[38;5;167;01mImportError\u001b[39;00m \u001b[38;5;28;01mas\u001b[39;00m e:\n\u001b[1;32m    116\u001b[0m     msg \u001b[38;5;241m=\u001b[39m \u001b[38;5;124m\"\"\"\u001b[39m\u001b[38;5;124mError importing numpy: you should not try to import numpy from\u001b[39m\n\u001b[1;32m    117\u001b[0m \u001b[38;5;124m    its source directory; please exit the numpy source tree, and relaunch\u001b[39m\n\u001b[1;32m    118\u001b[0m \u001b[38;5;124m    your python interpreter from there.\u001b[39m\u001b[38;5;124m\"\"\"\u001b[39m\n\u001b[0;32m--> 119\u001b[0m     \u001b[38;5;28;01mraise\u001b[39;00m \u001b[38;5;167;01mImportError\u001b[39;00m(msg) \u001b[38;5;28;01mfrom\u001b[39;00m \u001b[38;5;21;01me\u001b[39;00m\n\u001b[1;32m    121\u001b[0m \u001b[38;5;28;01mfrom\u001b[39;00m \u001b[38;5;21;01m.\u001b[39;00m \u001b[38;5;28;01mimport\u001b[39;00m _core\n\u001b[1;32m    122\u001b[0m \u001b[38;5;28;01mfrom\u001b[39;00m \u001b[38;5;21;01m.\u001b[39;00m\u001b[38;5;21;01m_core\u001b[39;00m \u001b[38;5;28;01mimport\u001b[39;00m (\n\u001b[1;32m    123\u001b[0m     False_, ScalarType, True_,\n\u001b[1;32m    124\u001b[0m     \u001b[38;5;28mabs\u001b[39m, absolute, acos, acosh, add, \u001b[38;5;28mall\u001b[39m, allclose,\n\u001b[0;32m   (...)\u001b[0m\n\u001b[1;32m    169\u001b[0m     vecmat, void, vstack, where, zeros, zeros_like\n\u001b[1;32m    170\u001b[0m )\n",
      "\u001b[0;31mImportError\u001b[0m: Error importing numpy: you should not try to import numpy from\n        its source directory; please exit the numpy source tree, and relaunch\n        your python interpreter from there."
     ]
    }
   ],
   "source": [
    "import numpy as np\n",
    "import pandas as pd\n",
    "import lightgbm as lgb\n",
    "\n",
    "import seaborn as sns\n",
    "import matplotlib.pyplot as plt\n",
    "\n",
    "import time\n",
    "\n",
    "from sklearn.preprocessing import OneHotEncoder, LabelEncoder\n",
    "\n",
    "from catboost import CatBoostRegressor\n",
    "from sklearn.tree import DecisionTreeRegressor\n",
    "from sklearn.ensemble import RandomForestRegressor \n",
    "from sklearn.linear_model import LinearRegression\n",
    "from sklearn.model_selection import train_test_split, GridSearchCV, RandomizedSearchCV\n",
    "from sklearn.metrics import mean_squared_error, mean_absolute_error\n"
   ]
  },
  {
   "cell_type": "markdown",
   "id": "5153f21d-3618-4524-b8bb-abf18ade1cac",
   "metadata": {},
   "source": [
    "### 1. Data Collection"
   ]
  },
  {
   "cell_type": "code",
   "execution_count": 2,
   "id": "a6ef9c18-40fc-4ca4-9f5b-c32e1182f841",
   "metadata": {},
   "outputs": [],
   "source": [
    "df = pd.read_csv('/datasets/car_data.csv')"
   ]
  },
  {
   "cell_type": "code",
   "execution_count": 3,
   "id": "78a17a80-6caf-4c73-a2cf-d4a88a0d7afa",
   "metadata": {},
   "outputs": [
    {
     "name": "stdout",
     "output_type": "stream",
     "text": [
      "<class 'pandas.core.frame.DataFrame'>\n",
      "RangeIndex: 354369 entries, 0 to 354368\n",
      "Data columns (total 16 columns):\n",
      " #   Column             Non-Null Count   Dtype \n",
      "---  ------             --------------   ----- \n",
      " 0   DateCrawled        354369 non-null  object\n",
      " 1   Price              354369 non-null  int64 \n",
      " 2   VehicleType        316879 non-null  object\n",
      " 3   RegistrationYear   354369 non-null  int64 \n",
      " 4   Gearbox            334536 non-null  object\n",
      " 5   Power              354369 non-null  int64 \n",
      " 6   Model              334664 non-null  object\n",
      " 7   Mileage            354369 non-null  int64 \n",
      " 8   RegistrationMonth  354369 non-null  int64 \n",
      " 9   FuelType           321474 non-null  object\n",
      " 10  Brand              354369 non-null  object\n",
      " 11  NotRepaired        283215 non-null  object\n",
      " 12  DateCreated        354369 non-null  object\n",
      " 13  NumberOfPictures   354369 non-null  int64 \n",
      " 14  PostalCode         354369 non-null  int64 \n",
      " 15  LastSeen           354369 non-null  object\n",
      "dtypes: int64(7), object(9)\n",
      "memory usage: 43.3+ MB\n"
     ]
    }
   ],
   "source": [
    "df.info()"
   ]
  },
  {
   "cell_type": "code",
   "execution_count": 4,
   "id": "cfbe8cb0-2091-429b-b743-3767ecd8141e",
   "metadata": {},
   "outputs": [
    {
     "data": {
      "text/html": [
       "<div>\n",
       "<style scoped>\n",
       "    .dataframe tbody tr th:only-of-type {\n",
       "        vertical-align: middle;\n",
       "    }\n",
       "\n",
       "    .dataframe tbody tr th {\n",
       "        vertical-align: top;\n",
       "    }\n",
       "\n",
       "    .dataframe thead th {\n",
       "        text-align: right;\n",
       "    }\n",
       "</style>\n",
       "<table border=\"1\" class=\"dataframe\">\n",
       "  <thead>\n",
       "    <tr style=\"text-align: right;\">\n",
       "      <th></th>\n",
       "      <th>DateCrawled</th>\n",
       "      <th>Price</th>\n",
       "      <th>VehicleType</th>\n",
       "      <th>RegistrationYear</th>\n",
       "      <th>Gearbox</th>\n",
       "      <th>Power</th>\n",
       "      <th>Model</th>\n",
       "      <th>Mileage</th>\n",
       "      <th>RegistrationMonth</th>\n",
       "      <th>FuelType</th>\n",
       "      <th>Brand</th>\n",
       "      <th>NotRepaired</th>\n",
       "      <th>DateCreated</th>\n",
       "      <th>NumberOfPictures</th>\n",
       "      <th>PostalCode</th>\n",
       "      <th>LastSeen</th>\n",
       "    </tr>\n",
       "  </thead>\n",
       "  <tbody>\n",
       "    <tr>\n",
       "      <th>0</th>\n",
       "      <td>24/03/2016 11:52</td>\n",
       "      <td>480</td>\n",
       "      <td>NaN</td>\n",
       "      <td>1993</td>\n",
       "      <td>manual</td>\n",
       "      <td>0</td>\n",
       "      <td>golf</td>\n",
       "      <td>150000</td>\n",
       "      <td>0</td>\n",
       "      <td>petrol</td>\n",
       "      <td>volkswagen</td>\n",
       "      <td>NaN</td>\n",
       "      <td>24/03/2016 00:00</td>\n",
       "      <td>0</td>\n",
       "      <td>70435</td>\n",
       "      <td>07/04/2016 03:16</td>\n",
       "    </tr>\n",
       "    <tr>\n",
       "      <th>1</th>\n",
       "      <td>24/03/2016 10:58</td>\n",
       "      <td>18300</td>\n",
       "      <td>coupe</td>\n",
       "      <td>2011</td>\n",
       "      <td>manual</td>\n",
       "      <td>190</td>\n",
       "      <td>NaN</td>\n",
       "      <td>125000</td>\n",
       "      <td>5</td>\n",
       "      <td>gasoline</td>\n",
       "      <td>audi</td>\n",
       "      <td>yes</td>\n",
       "      <td>24/03/2016 00:00</td>\n",
       "      <td>0</td>\n",
       "      <td>66954</td>\n",
       "      <td>07/04/2016 01:46</td>\n",
       "    </tr>\n",
       "    <tr>\n",
       "      <th>2</th>\n",
       "      <td>14/03/2016 12:52</td>\n",
       "      <td>9800</td>\n",
       "      <td>suv</td>\n",
       "      <td>2004</td>\n",
       "      <td>auto</td>\n",
       "      <td>163</td>\n",
       "      <td>grand</td>\n",
       "      <td>125000</td>\n",
       "      <td>8</td>\n",
       "      <td>gasoline</td>\n",
       "      <td>jeep</td>\n",
       "      <td>NaN</td>\n",
       "      <td>14/03/2016 00:00</td>\n",
       "      <td>0</td>\n",
       "      <td>90480</td>\n",
       "      <td>05/04/2016 12:47</td>\n",
       "    </tr>\n",
       "    <tr>\n",
       "      <th>3</th>\n",
       "      <td>17/03/2016 16:54</td>\n",
       "      <td>1500</td>\n",
       "      <td>small</td>\n",
       "      <td>2001</td>\n",
       "      <td>manual</td>\n",
       "      <td>75</td>\n",
       "      <td>golf</td>\n",
       "      <td>150000</td>\n",
       "      <td>6</td>\n",
       "      <td>petrol</td>\n",
       "      <td>volkswagen</td>\n",
       "      <td>no</td>\n",
       "      <td>17/03/2016 00:00</td>\n",
       "      <td>0</td>\n",
       "      <td>91074</td>\n",
       "      <td>17/03/2016 17:40</td>\n",
       "    </tr>\n",
       "    <tr>\n",
       "      <th>4</th>\n",
       "      <td>31/03/2016 17:25</td>\n",
       "      <td>3600</td>\n",
       "      <td>small</td>\n",
       "      <td>2008</td>\n",
       "      <td>manual</td>\n",
       "      <td>69</td>\n",
       "      <td>fabia</td>\n",
       "      <td>90000</td>\n",
       "      <td>7</td>\n",
       "      <td>gasoline</td>\n",
       "      <td>skoda</td>\n",
       "      <td>no</td>\n",
       "      <td>31/03/2016 00:00</td>\n",
       "      <td>0</td>\n",
       "      <td>60437</td>\n",
       "      <td>06/04/2016 10:17</td>\n",
       "    </tr>\n",
       "  </tbody>\n",
       "</table>\n",
       "</div>"
      ],
      "text/plain": [
       "        DateCrawled  Price VehicleType  RegistrationYear Gearbox  Power  \\\n",
       "0  24/03/2016 11:52    480         NaN              1993  manual      0   \n",
       "1  24/03/2016 10:58  18300       coupe              2011  manual    190   \n",
       "2  14/03/2016 12:52   9800         suv              2004    auto    163   \n",
       "3  17/03/2016 16:54   1500       small              2001  manual     75   \n",
       "4  31/03/2016 17:25   3600       small              2008  manual     69   \n",
       "\n",
       "   Model  Mileage  RegistrationMonth  FuelType       Brand NotRepaired  \\\n",
       "0   golf   150000                  0    petrol  volkswagen         NaN   \n",
       "1    NaN   125000                  5  gasoline        audi         yes   \n",
       "2  grand   125000                  8  gasoline        jeep         NaN   \n",
       "3   golf   150000                  6    petrol  volkswagen          no   \n",
       "4  fabia    90000                  7  gasoline       skoda          no   \n",
       "\n",
       "        DateCreated  NumberOfPictures  PostalCode          LastSeen  \n",
       "0  24/03/2016 00:00                 0       70435  07/04/2016 03:16  \n",
       "1  24/03/2016 00:00                 0       66954  07/04/2016 01:46  \n",
       "2  14/03/2016 00:00                 0       90480  05/04/2016 12:47  \n",
       "3  17/03/2016 00:00                 0       91074  17/03/2016 17:40  \n",
       "4  31/03/2016 00:00                 0       60437  06/04/2016 10:17  "
      ]
     },
     "execution_count": 4,
     "metadata": {},
     "output_type": "execute_result"
    }
   ],
   "source": [
    "df.head()"
   ]
  },
  {
   "cell_type": "markdown",
   "id": "813f9d9d-f8b5-4f0c-9d4c-52fc940d366c",
   "metadata": {},
   "source": [
    "### 2. Data Analyzion"
   ]
  },
  {
   "cell_type": "code",
   "execution_count": 5,
   "id": "81fefe70-11e7-48c0-827f-5e5f06f88adc",
   "metadata": {},
   "outputs": [],
   "source": [
    "# We rename the columns to make the code look more consistent with it's style\n",
    "\n",
    "df = df.rename(columns = {'DateCrawled':'date_crawled','VehicleType':'vehicle_type','RegistrationYear':'registration_year','Gearbox':'gear_box','RegistrationMonth':'registration_month',\n",
    "                          'FuelType':'fuel_type','NotRepaired':'not_repaired','DateCreated':'date_created','NumberOfPictures':'number_of_pictures','PostalCode':'postal_code','LastSeen':'last_seen'})"
   ]
  },
  {
   "cell_type": "code",
   "execution_count": 6,
   "id": "09cb7c90-1001-4d12-8b10-fab8d40965de",
   "metadata": {},
   "outputs": [],
   "source": [
    "df.columns = df.columns.str.lower()"
   ]
  },
  {
   "cell_type": "code",
   "execution_count": 7,
   "id": "006d1e11-8a47-4ac2-a572-709721f00667",
   "metadata": {},
   "outputs": [],
   "source": [
    "# We change the data type (Date_time)\n",
    "\n",
    "date_cols = ['date_crawled', 'date_created', 'last_seen',]\n",
    "for col in date_cols:\n",
    "    df[col] = pd.to_datetime(df[col])"
   ]
  },
  {
   "cell_type": "code",
   "execution_count": 8,
   "id": "895804ab-d0fc-4554-8bb4-f02647f6e6a8",
   "metadata": {},
   "outputs": [
    {
     "data": {
      "text/plain": [
       "Index(['date_crawled', 'price', 'vehicle_type', 'registration_year',\n",
       "       'gear_box', 'power', 'model', 'mileage', 'registration_month',\n",
       "       'fuel_type', 'brand', 'not_repaired', 'date_created',\n",
       "       'number_of_pictures', 'postal_code', 'last_seen'],\n",
       "      dtype='object')"
      ]
     },
     "execution_count": 8,
     "metadata": {},
     "output_type": "execute_result"
    }
   ],
   "source": [
    "df.columns"
   ]
  },
  {
   "cell_type": "code",
   "execution_count": 9,
   "id": "e6d69b44-2dd1-4741-9078-5e950f4c7621",
   "metadata": {},
   "outputs": [
    {
     "data": {
      "text/plain": [
       "date_crawled          0.000000\n",
       "price                 0.000000\n",
       "vehicle_type          0.105794\n",
       "registration_year     0.000000\n",
       "gear_box              0.055967\n",
       "power                 0.000000\n",
       "model                 0.055606\n",
       "mileage               0.000000\n",
       "registration_month    0.000000\n",
       "fuel_type             0.092827\n",
       "brand                 0.000000\n",
       "not_repaired          0.200791\n",
       "date_created          0.000000\n",
       "number_of_pictures    0.000000\n",
       "postal_code           0.000000\n",
       "last_seen             0.000000\n",
       "dtype: float64"
      ]
     },
     "execution_count": 9,
     "metadata": {},
     "output_type": "execute_result"
    }
   ],
   "source": [
    "df.isnull().sum()/len(df)"
   ]
  },
  {
   "cell_type": "code",
   "execution_count": 10,
   "id": "377b86a3-11e3-45dc-8d6c-32217e1042b7",
   "metadata": {},
   "outputs": [
    {
     "data": {
      "text/plain": [
       "date_crawled          0\n",
       "price                 0\n",
       "vehicle_type          0\n",
       "registration_year     0\n",
       "gear_box              0\n",
       "power                 0\n",
       "model                 0\n",
       "mileage               0\n",
       "registration_month    0\n",
       "fuel_type             0\n",
       "brand                 0\n",
       "not_repaired          0\n",
       "date_created          0\n",
       "number_of_pictures    0\n",
       "postal_code           0\n",
       "last_seen             0\n",
       "dtype: int64"
      ]
     },
     "execution_count": 10,
     "metadata": {},
     "output_type": "execute_result"
    }
   ],
   "source": [
    "# We drop off the missing values which are less than 1%, then double check again\n",
    "\n",
    "cols_to_fill =['vehicle_type','gear_box','model','fuel_type','not_repaired']\n",
    "df[cols_to_fill] = df[cols_to_fill].fillna(\"Unknown\")\n",
    "df.isnull().sum()"
   ]
  },
  {
   "cell_type": "code",
   "execution_count": 11,
   "id": "188032f1-a49e-4c93-bd23-1b53d9af665f",
   "metadata": {},
   "outputs": [
    {
     "data": {
      "text/html": [
       "<div>\n",
       "<style scoped>\n",
       "    .dataframe tbody tr th:only-of-type {\n",
       "        vertical-align: middle;\n",
       "    }\n",
       "\n",
       "    .dataframe tbody tr th {\n",
       "        vertical-align: top;\n",
       "    }\n",
       "\n",
       "    .dataframe thead th {\n",
       "        text-align: right;\n",
       "    }\n",
       "</style>\n",
       "<table border=\"1\" class=\"dataframe\">\n",
       "  <thead>\n",
       "    <tr style=\"text-align: right;\">\n",
       "      <th></th>\n",
       "      <th>price</th>\n",
       "      <th>registration_year</th>\n",
       "      <th>power</th>\n",
       "      <th>mileage</th>\n",
       "      <th>registration_month</th>\n",
       "      <th>number_of_pictures</th>\n",
       "      <th>postal_code</th>\n",
       "    </tr>\n",
       "  </thead>\n",
       "  <tbody>\n",
       "    <tr>\n",
       "      <th>count</th>\n",
       "      <td>354369.000000</td>\n",
       "      <td>354369.000000</td>\n",
       "      <td>354369.000000</td>\n",
       "      <td>354369.000000</td>\n",
       "      <td>354369.000000</td>\n",
       "      <td>354369.0</td>\n",
       "      <td>354369.000000</td>\n",
       "    </tr>\n",
       "    <tr>\n",
       "      <th>mean</th>\n",
       "      <td>4416.656776</td>\n",
       "      <td>2004.234448</td>\n",
       "      <td>110.094337</td>\n",
       "      <td>128211.172535</td>\n",
       "      <td>5.714645</td>\n",
       "      <td>0.0</td>\n",
       "      <td>50508.689087</td>\n",
       "    </tr>\n",
       "    <tr>\n",
       "      <th>std</th>\n",
       "      <td>4514.158514</td>\n",
       "      <td>90.227958</td>\n",
       "      <td>189.850405</td>\n",
       "      <td>37905.341530</td>\n",
       "      <td>3.726421</td>\n",
       "      <td>0.0</td>\n",
       "      <td>25783.096248</td>\n",
       "    </tr>\n",
       "    <tr>\n",
       "      <th>min</th>\n",
       "      <td>0.000000</td>\n",
       "      <td>1000.000000</td>\n",
       "      <td>0.000000</td>\n",
       "      <td>5000.000000</td>\n",
       "      <td>0.000000</td>\n",
       "      <td>0.0</td>\n",
       "      <td>1067.000000</td>\n",
       "    </tr>\n",
       "    <tr>\n",
       "      <th>25%</th>\n",
       "      <td>1050.000000</td>\n",
       "      <td>1999.000000</td>\n",
       "      <td>69.000000</td>\n",
       "      <td>125000.000000</td>\n",
       "      <td>3.000000</td>\n",
       "      <td>0.0</td>\n",
       "      <td>30165.000000</td>\n",
       "    </tr>\n",
       "    <tr>\n",
       "      <th>50%</th>\n",
       "      <td>2700.000000</td>\n",
       "      <td>2003.000000</td>\n",
       "      <td>105.000000</td>\n",
       "      <td>150000.000000</td>\n",
       "      <td>6.000000</td>\n",
       "      <td>0.0</td>\n",
       "      <td>49413.000000</td>\n",
       "    </tr>\n",
       "    <tr>\n",
       "      <th>75%</th>\n",
       "      <td>6400.000000</td>\n",
       "      <td>2008.000000</td>\n",
       "      <td>143.000000</td>\n",
       "      <td>150000.000000</td>\n",
       "      <td>9.000000</td>\n",
       "      <td>0.0</td>\n",
       "      <td>71083.000000</td>\n",
       "    </tr>\n",
       "    <tr>\n",
       "      <th>max</th>\n",
       "      <td>20000.000000</td>\n",
       "      <td>9999.000000</td>\n",
       "      <td>20000.000000</td>\n",
       "      <td>150000.000000</td>\n",
       "      <td>12.000000</td>\n",
       "      <td>0.0</td>\n",
       "      <td>99998.000000</td>\n",
       "    </tr>\n",
       "  </tbody>\n",
       "</table>\n",
       "</div>"
      ],
      "text/plain": [
       "               price  registration_year          power        mileage  \\\n",
       "count  354369.000000      354369.000000  354369.000000  354369.000000   \n",
       "mean     4416.656776        2004.234448     110.094337  128211.172535   \n",
       "std      4514.158514          90.227958     189.850405   37905.341530   \n",
       "min         0.000000        1000.000000       0.000000    5000.000000   \n",
       "25%      1050.000000        1999.000000      69.000000  125000.000000   \n",
       "50%      2700.000000        2003.000000     105.000000  150000.000000   \n",
       "75%      6400.000000        2008.000000     143.000000  150000.000000   \n",
       "max     20000.000000        9999.000000   20000.000000  150000.000000   \n",
       "\n",
       "       registration_month  number_of_pictures    postal_code  \n",
       "count       354369.000000            354369.0  354369.000000  \n",
       "mean             5.714645                 0.0   50508.689087  \n",
       "std              3.726421                 0.0   25783.096248  \n",
       "min              0.000000                 0.0    1067.000000  \n",
       "25%              3.000000                 0.0   30165.000000  \n",
       "50%              6.000000                 0.0   49413.000000  \n",
       "75%              9.000000                 0.0   71083.000000  \n",
       "max             12.000000                 0.0   99998.000000  "
      ]
     },
     "execution_count": 11,
     "metadata": {},
     "output_type": "execute_result"
    }
   ],
   "source": [
    "df.describe()"
   ]
  },
  {
   "cell_type": "markdown",
   "id": "3e46dd3e-c963-4900-9e13-f8f585bdbbb2",
   "metadata": {},
   "source": [
    "- Several columns contain outliers or potentially invalid values (e.g., price=0,power=20000, registration_year=1910, registration_month=0).\n",
    "- Data cleaning is needed before modeling: remove or correct outliers, especially in power, price, registration_year, and registration_month.\n",
    "- Number_of_pictures is all zero, can be dropped.\n",
    "- Other features (mileage, postal_code) look reasonable."
   ]
  },
  {
   "cell_type": "code",
   "execution_count": 12,
   "id": "288613e5-68d7-4ae8-848a-a5a09f36ed89",
   "metadata": {},
   "outputs": [
    {
     "data": {
      "text/plain": [
       "(354369, 16)"
      ]
     },
     "execution_count": 12,
     "metadata": {},
     "output_type": "execute_result"
    }
   ],
   "source": [
    "df.shape"
   ]
  },
  {
   "cell_type": "code",
   "execution_count": 13,
   "id": "007f8b11-c0b5-42ef-a865-6f3efd8b542b",
   "metadata": {},
   "outputs": [],
   "source": [
    "# 1. Handling outlier for the price\n",
    "df = df[(df['price'] >= 100) & (df['price'] <= 20000)]\n",
    "\n",
    "# 2. Handling outlier for the power\n",
    "df = df[(df['power'] >= 50) & (df['power'] <= 500)]\n",
    "\n",
    "# 3. Handling outlier for the mileage\n",
    "df = df[(df['mileage'] >= 1000) & (df['mileage'] < 150000)]\n",
    "\n",
    "# 4. Handling outlier for the registration_year\n",
    "df = df[(df['registration_year'] >= 1990) & (df['registration_year'] <= 2018)]\n",
    "\n",
    "# 5. Handling outlier for the registration_month\n",
    "df = df[(df['registration_month'] >= 1) & (df['registration_month'] <= 12)]\n",
    "\n",
    "# 6. Drop off the no need columns\n",
    "df = df.drop(columns=['number_of_pictures','date_crawled','date_created','last_seen','registration_month','postal_code'])"
   ]
  },
  {
   "cell_type": "code",
   "execution_count": 14,
   "id": "bb3e884d-c156-48d2-97da-03858ff2c3e8",
   "metadata": {},
   "outputs": [
    {
     "name": "stdout",
     "output_type": "stream",
     "text": [
      "(93645, 10)\n",
      "Index(['price', 'vehicle_type', 'registration_year', 'gear_box', 'power',\n",
      "       'model', 'mileage', 'fuel_type', 'brand', 'not_repaired'],\n",
      "      dtype='object')\n"
     ]
    }
   ],
   "source": [
    "print(df.shape)\n",
    "print(df.columns)"
   ]
  },
  {
   "cell_type": "code",
   "execution_count": 15,
   "id": "fed63e9d-08d5-4a01-a44e-06053e981272",
   "metadata": {},
   "outputs": [],
   "source": [
    "# Checking for duplicates, and drop it if there is any.\n",
    "\n",
    "df.duplicated().sum()\n",
    "df.drop_duplicates(inplace=True)"
   ]
  },
  {
   "cell_type": "code",
   "execution_count": 16,
   "id": "0b9901c9-2190-4f33-bd6e-43185c177988",
   "metadata": {},
   "outputs": [
    {
     "data": {
      "image/png": "[encoded data removed]",
      "text/plain": [
       "<Figure size 800x400 with 1 Axes>"
      ]
     },
     "metadata": {},
     "output_type": "display_data"
    }
   ],
   "source": [
    "plt.figure(figsize=(8,4))\n",
    "plt.hist(df['price'], bins=50)\n",
    "plt.title('Price Distribution')\n",
    "plt.xlabel('Price')\n",
    "plt.ylabel('Count')\n",
    "plt.show()"
   ]
  },
  {
   "cell_type": "markdown",
   "id": "36b675c4-1cd9-400a-ac77-b69a1f3801a1",
   "metadata": {},
   "source": [
    "### Price Distribution (Histogram)\n",
    "\n",
    "**What the plot shows:**\n",
    "- The histogram visualizes the distribution of car prices in your dataset.\n",
    "- Most cars are priced between $0 and $5,000, with a sharp decline in frequency as the price increases.\n",
    "- There are very few cars priced above $10,000, and almost none above $15,000–$20,000.\n",
    "- The distribution is highly right-skewed (positively skewed), meaning most cars \n",
    "     are low-priced with a long tail of high-priced outliers."
   ]
  },
  {
   "cell_type": "code",
   "execution_count": 17,
   "id": "f6f87266-1b10-4f7b-94c2-4ceb39b3439e",
   "metadata": {},
   "outputs": [
    {
     "data": {
      "image/png": "[encoded data removed]",
      "text/plain": [
       "<Figure size 1200x600 with 1 Axes>"
      ]
     },
     "metadata": {},
     "output_type": "display_data"
    }
   ],
   "source": [
    "cols_to_plot = ['price','power','mileage']\n",
    "\n",
    "plt.figure(figsize=(12, 6))\n",
    "sns.boxplot(data=df[cols_to_plot])\n",
    "plt.title('Boxplot of Price, Power, and Mileage')\n",
    "plt.ylabel('Value')\n",
    "plt.show()"
   ]
  },
  {
   "cell_type": "markdown",
   "id": "4d42d1d4-939a-4f3c-9642-b525aed4b571",
   "metadata": {},
   "source": [
    "### Boxplot of Price, Power, and Mileage\n",
    "\n",
    "**What the plot shows:**\n",
    "- The boxplot compares the distribution of three key features: **price**, **power**, and **mileage**.\n",
    "\n",
    "---\n",
    "\n",
    "#### **Price:**\n",
    "- The median price is low, with a few high outliers.\n",
    "- There is a long upper whisker and many points above it, confirming the right-skewness seen in the histogram.\n",
    "\n",
    "---\n",
    "\n",
    "#### **Power:**\n",
    "- A similar pattern: most cars have low engine power, but a small number have very high power values (outliers).\n",
    "\n",
    "---\n",
    "\n",
    "#### **Mileage:**\n",
    "- Mileage values are generally much higher than price and power.\n",
    "- There are substantial outliers on the high end, suggesting a few cars have been driven much more than average."
   ]
  },
  {
   "cell_type": "code",
   "execution_count": 18,
   "id": "7c845e9b-7cda-481f-b53a-47fdd6f8e583",
   "metadata": {},
   "outputs": [],
   "source": [
    "df = df[(df['price'] >= 100) & (df['price'] <= 10000)]          \n",
    "df = df[(df['power'] >= 40) & (df['power'] <= 500)]             \n",
    "df = df[(df['mileage'] >= 100000) & (df['mileage'] <= 150000)]\n",
    "\n",
    "\n",
    "for col in ['price', 'power', 'mileage']:\n",
    "    lower = df[col].quantile(0.01)\n",
    "    upper = df[col].quantile(0.99)\n",
    "    df[col] = df[col].clip(lower, upper)\n",
    "\n",
    "df['price_log'] = np.log1p(df['price'])\n",
    "df['mileage_log'] = np.log1p(df['mileage'])\n",
    "df['power_log'] = np.log1p(df['power'])"
   ]
  },
  {
   "cell_type": "code",
   "execution_count": 19,
   "id": "4f1d78cd-532b-4440-a06b-23f97aeb7503",
   "metadata": {},
   "outputs": [
    {
     "data": {
      "image/png": "[encoded data removed]",
      "text/plain": [
       "<Figure size 1500x400 with 3 Axes>"
      ]
     },
     "metadata": {},
     "output_type": "display_data"
    }
   ],
   "source": [
    "plt.figure(figsize=(15, 4))\n",
    "for i, col in enumerate(['price', 'power', 'mileage']):\n",
    "    plt.subplot(1, 3, i+1)\n",
    "    df[col].hist(bins=50)\n",
    "    plt.title(f'{col} after outlier handling')\n",
    "plt.show()"
   ]
  },
  {
   "cell_type": "markdown",
   "id": "3a3fe6f8-2b22-43fb-821b-99c261592fe1",
   "metadata": {},
   "source": [
    "### 1. Price after Outlier Handling\n",
    "\n",
    "- **The distribution is concentrated around 1,000 ~ 8,000.**\n",
    "- It is still right-skewed (long right tail), but extremely high-priced vehicles have been clearly removed or compressed—there are no outliers with extremely high prices.\n",
    "- The distribution is now smooth and continuous, making it suitable for subsequent modeling.\n",
    "\n",
    "---\n",
    "\n",
    "### 2. Power after Outlier Handling\n",
    "\n",
    "- The values are mainly concentrated between 50 and 150, with very few above 200. This suggests most cars are mainstream market vehicles, and supercars or anomalous data have been removed.\n",
    "- There are many low-horsepower (small car) entries, with the number of high-horsepower vehicles gradually decreasing.\n",
    "- No obvious outliers remain—the distribution is very reasonable.\n",
    "\n",
    "---\n",
    "\n",
    "### 3. Mileage after Outlier Handling\n",
    "\n",
    "- The distribution is divided into two large groups: one between 100,000 and 110,000, and another between 120,000 and 125,000.\n",
    "- This may indicate the original data had \"mileage segmentation\" or that some mileage records were discontinuous (possibly due to batch entry of extreme values), but both extremely high and low mileage anomalies have been removed.\n",
    "- There are no unreasonable zeros or excessively high values—the distribution now clearly reflects the mainstream data."
   ]
  },
  {
   "cell_type": "code",
   "execution_count": 20,
   "id": "6bae06ec-158a-4d25-81f1-282ff4c8ff12",
   "metadata": {
    "scrolled": true
   },
   "outputs": [
    {
     "name": "stdout",
     "output_type": "stream",
     "text": [
      "\n",
      "vehicle_type unique values:\n",
      " small          10760\n",
      "sedan           8106\n",
      "wagon           3282\n",
      "convertible     2418\n",
      "bus             2399\n",
      "Unknown         1704\n",
      "coupe           1121\n",
      "suv              792\n",
      "other            203\n",
      "Name: vehicle_type, dtype: int64\n",
      "\n",
      "gear_box unique values:\n",
      " manual     25968\n",
      "auto        4284\n",
      "Unknown      533\n",
      "Name: gear_box, dtype: int64\n",
      "\n",
      "model unique values:\n",
      " golf        2249\n",
      "other       2152\n",
      "corsa       1506\n",
      "polo        1388\n",
      "astra       1182\n",
      "            ... \n",
      "kalina         1\n",
      "9000           1\n",
      "mii            1\n",
      "850            1\n",
      "defender       1\n",
      "Name: model, Length: 231, dtype: int64\n",
      "\n",
      "fuel_type unique values:\n",
      " petrol      24479\n",
      "gasoline     4457\n",
      "Unknown      1471\n",
      "lpg           278\n",
      "cng            74\n",
      "hybrid         19\n",
      "other           5\n",
      "electric        2\n",
      "Name: fuel_type, dtype: int64\n",
      "\n",
      "brand unique values:\n",
      " volkswagen        5383\n",
      "opel              4086\n",
      "ford              2831\n",
      "renault           2116\n",
      "mercedes_benz     1877\n",
      "bmw               1606\n",
      "peugeot           1466\n",
      "fiat              1308\n",
      "audi              1117\n",
      "smart              854\n",
      "seat               826\n",
      "citroen            713\n",
      "mazda              706\n",
      "skoda              667\n",
      "toyota             664\n",
      "nissan             573\n",
      "hyundai            538\n",
      "mini               526\n",
      "suzuki             411\n",
      "mitsubishi         325\n",
      "honda              321\n",
      "kia                306\n",
      "alfa_romeo         278\n",
      "chevrolet          211\n",
      "sonstige_autos     135\n",
      "dacia              132\n",
      "daihatsu           123\n",
      "daewoo             114\n",
      "chrysler           107\n",
      "volvo              105\n",
      "subaru              88\n",
      "lancia              61\n",
      "rover               54\n",
      "jeep                42\n",
      "saab                33\n",
      "jaguar              29\n",
      "lada                21\n",
      "porsche             18\n",
      "land_rover          14\n",
      "Name: brand, dtype: int64\n",
      "\n",
      "not_repaired unique values:\n",
      " no         24610\n",
      "Unknown     3552\n",
      "yes         2623\n",
      "Name: not_repaired, dtype: int64\n"
     ]
    }
   ],
   "source": [
    "# Identify Categorical Columns\n",
    "\n",
    "cat_cols = df.select_dtypes(include=['object','category']).columns\n",
    "for col in cat_cols:\n",
    "    print(f\"\\n{col} unique values:\\n\", df[col].value_counts())"
   ]
  },
  {
   "cell_type": "markdown",
   "id": "eecf6111-4b58-484b-981b-7a21f4fc1a18",
   "metadata": {},
   "source": [
    "#### A reminder to myself\n",
    "- If \"df_ohe\" was get_dummies from a field containing price_log, mileage_log, or even price itself, the model would have a chance to \"see the answer\" and thus the prediction would be almost 100% accurate, resulting in an RMSE close to 0.\n",
    "- 在對資料做 One-Hot Encoding（用 pd.get_dummies()）之前，你必須先刪掉那些不能讓模型看到的欄位，特別是目標欄位（target）或其衍生欄位，否則模型可能「偷看答案」。"
   ]
  },
  {
   "cell_type": "code",
   "execution_count": 21,
   "id": "b2648af6-c1d1-45dc-bc29-05f35d47c4dd",
   "metadata": {},
   "outputs": [
    {
     "name": "stdout",
     "output_type": "stream",
     "text": [
      "<class 'pandas.core.series.Series'> (18471,)\n",
      "40238     6790\n",
      "72166     2900\n",
      "166907    5100\n",
      "218524     900\n",
      "182556    4100\n",
      "Name: price, dtype: int64\n"
     ]
    }
   ],
   "source": [
    "target_col = 'price'\n",
    "\n",
    "leakage_cols = ['price', 'price_log', 'mileage_log', 'power_log']  \n",
    "\n",
    "df_model = df.copy()\n",
    "df_model = df_model.drop(columns=[col for col in leakage_cols if col in df_model.columns])\n",
    "\n",
    "df_ohe = pd.get_dummies(df_model)\n",
    "\n",
    "x = df_ohe  \n",
    "y = df[target_col] \n",
    "\n",
    "x_temp, x_test, y_temp, y_test = train_test_split(x, y, test_size=0.2, random_state=42)\n",
    "x_train, x_valid, y_train, y_valid = train_test_split(x_temp, y_temp, test_size=0.25, random_state=42)\n",
    "\n",
    "print(type(y_train), y_train.shape)\n",
    "print(y_train.head())"
   ]
  },
  {
   "cell_type": "code",
   "execution_count": 22,
   "id": "86307b9b-8622-4fd8-adee-b63d662bb11d",
   "metadata": {},
   "outputs": [
    {
     "name": "stdout",
     "output_type": "stream",
     "text": [
      "registration_year       int64\n",
      "power                   int64\n",
      "mileage                 int64\n",
      "vehicle_type_Unknown    uint8\n",
      "vehicle_type_bus        uint8\n",
      "                        ...  \n",
      "brand_volkswagen        uint8\n",
      "brand_volvo             uint8\n",
      "not_repaired_Unknown    uint8\n",
      "not_repaired_no         uint8\n",
      "not_repaired_yes        uint8\n",
      "Length: 296, dtype: object\n",
      "0\n"
     ]
    }
   ],
   "source": [
    "print(x_train.dtypes)\n",
    "print(x_train.isnull().sum().sum())"
   ]
  },
  {
   "cell_type": "code",
   "execution_count": 23,
   "id": "8467ad88-806f-4364-ae45-e6f74f7ed1a8",
   "metadata": {},
   "outputs": [
    {
     "data": {
      "text/plain": [
       "uint8    293\n",
       "int64      3\n",
       "dtype: int64"
      ]
     },
     "execution_count": 23,
     "metadata": {},
     "output_type": "execute_result"
    }
   ],
   "source": [
    "x_train.dtypes.value_counts()"
   ]
  },
  {
   "cell_type": "code",
   "execution_count": 24,
   "id": "48a10420-a5f8-4755-be36-c45f82d3538c",
   "metadata": {},
   "outputs": [
    {
     "name": "stdout",
     "output_type": "stream",
     "text": [
      "Random Forest RMSE: 1119.06\n",
      "Training time: 6.04 seconds\n",
      "Prediction time: 0.09 seconds\n"
     ]
    }
   ],
   "source": [
    "\n",
    "# Model training (# Random Forest)\n",
    "rf_model = RandomForestRegressor(n_estimators=100, random_state=42, n_jobs=-1)\n",
    "\n",
    "start_train = time.time()\n",
    "rf_model.fit(x_train, y_train)\n",
    "end_train = time.time() \n",
    "\n",
    "start_pred = time.time()\n",
    "y_pred = rf_model.predict(x_valid)\n",
    "end_pred = time.time()\n",
    "\n",
    "rmse = np.sqrt(mean_squared_error(y_valid, y_pred))\n",
    "\n",
    "print(f'Random Forest RMSE: {rmse:.2f}')\n",
    "print(f'Training time: {end_train - start_train:.2f} seconds')\n",
    "print(f'Prediction time: {end_pred - start_pred:.2f} seconds')"
   ]
  },
  {
   "cell_type": "code",
   "execution_count": 25,
   "id": "fe5f355a-be88-4d96-b32c-b210b9b02cc0",
   "metadata": {},
   "outputs": [
    {
     "data": {
      "text/html": [
       "<div>\n",
       "<style scoped>\n",
       "    .dataframe tbody tr th:only-of-type {\n",
       "        vertical-align: middle;\n",
       "    }\n",
       "\n",
       "    .dataframe tbody tr th {\n",
       "        vertical-align: top;\n",
       "    }\n",
       "\n",
       "    .dataframe thead th {\n",
       "        text-align: right;\n",
       "    }\n",
       "</style>\n",
       "<table border=\"1\" class=\"dataframe\">\n",
       "  <thead>\n",
       "    <tr style=\"text-align: right;\">\n",
       "      <th></th>\n",
       "      <th>true</th>\n",
       "      <th>pred</th>\n",
       "    </tr>\n",
       "  </thead>\n",
       "  <tbody>\n",
       "    <tr>\n",
       "      <th>324</th>\n",
       "      <td>1250</td>\n",
       "      <td>1667.721500</td>\n",
       "    </tr>\n",
       "    <tr>\n",
       "      <th>1154</th>\n",
       "      <td>2399</td>\n",
       "      <td>2579.585189</td>\n",
       "    </tr>\n",
       "    <tr>\n",
       "      <th>4453</th>\n",
       "      <td>4800</td>\n",
       "      <td>5137.457563</td>\n",
       "    </tr>\n",
       "    <tr>\n",
       "      <th>3699</th>\n",
       "      <td>500</td>\n",
       "      <td>461.615333</td>\n",
       "    </tr>\n",
       "    <tr>\n",
       "      <th>3409</th>\n",
       "      <td>3999</td>\n",
       "      <td>3740.356466</td>\n",
       "    </tr>\n",
       "    <tr>\n",
       "      <th>1822</th>\n",
       "      <td>6950</td>\n",
       "      <td>6842.104008</td>\n",
       "    </tr>\n",
       "    <tr>\n",
       "      <th>3206</th>\n",
       "      <td>9990</td>\n",
       "      <td>8741.215833</td>\n",
       "    </tr>\n",
       "    <tr>\n",
       "      <th>906</th>\n",
       "      <td>1500</td>\n",
       "      <td>1940.026667</td>\n",
       "    </tr>\n",
       "    <tr>\n",
       "      <th>4323</th>\n",
       "      <td>4500</td>\n",
       "      <td>5101.920000</td>\n",
       "    </tr>\n",
       "    <tr>\n",
       "      <th>406</th>\n",
       "      <td>2399</td>\n",
       "      <td>2354.292442</td>\n",
       "    </tr>\n",
       "  </tbody>\n",
       "</table>\n",
       "</div>"
      ],
      "text/plain": [
       "      true         pred\n",
       "324   1250  1667.721500\n",
       "1154  2399  2579.585189\n",
       "4453  4800  5137.457563\n",
       "3699   500   461.615333\n",
       "3409  3999  3740.356466\n",
       "1822  6950  6842.104008\n",
       "3206  9990  8741.215833\n",
       "906   1500  1940.026667\n",
       "4323  4500  5101.920000\n",
       "406   2399  2354.292442"
      ]
     },
     "execution_count": 25,
     "metadata": {},
     "output_type": "execute_result"
    }
   ],
   "source": [
    "pd.DataFrame({'true': y_valid.values, 'pred': y_pred}).sample(10)"
   ]
  },
  {
   "cell_type": "code",
   "execution_count": 26,
   "id": "6bebf7d6-2b37-466a-afeb-087c3fadb37e",
   "metadata": {},
   "outputs": [
    {
     "name": "stdout",
     "output_type": "stream",
     "text": [
      "RMSE: 1119.0613373052636\n",
      "Mean price: 4065.1080071463375\n",
      "Median price: 3500.0\n"
     ]
    }
   ],
   "source": [
    "print(\"RMSE:\", rmse)\n",
    "print(\"Mean price:\", y_valid.mean())\n",
    "print(\"Median price:\", y_valid.median())"
   ]
  },
  {
   "cell_type": "code",
   "execution_count": 27,
   "id": "fe0a7bef-fcb9-45c1-b759-0b080da9048f",
   "metadata": {},
   "outputs": [
    {
     "name": "stdout",
     "output_type": "stream",
     "text": [
      "Random Forest best params: {'n_estimators': 100, 'max_depth': 20}\n",
      "Random Forest best CV RMSE: 1153.1490884413215\n",
      "Training time: 21.05 seconds\n"
     ]
    }
   ],
   "source": [
    "# Random Forest\n",
    "param_grid_rf = {\n",
    "    'n_estimators': [50, 100],\n",
    "    'max_depth': [10, 20],\n",
    "}\n",
    "\n",
    "\n",
    "rf_rs = RandomizedSearchCV(\n",
    "    estimator=RandomForestRegressor(random_state=42),\n",
    "    param_distributions=param_grid_rf,\n",
    "    n_iter=3,               \n",
    "    cv=2,                    \n",
    "    scoring='neg_root_mean_squared_error',\n",
    "    n_jobs=-1,               \n",
    "    random_state=42\n",
    ")\n",
    "\n",
    "start_time = time.time()\n",
    "rf_rs.fit(x_train, y_train)\n",
    "end_time = time.time()\n",
    "\n",
    "print('Random Forest best params:', rf_rs.best_params_)\n",
    "print('Random Forest best CV RMSE:', -rf_rs.best_score_)\n",
    "print(f'Training time: {end_time - start_time:.2f} seconds')"
   ]
  },
  {
   "cell_type": "code",
   "execution_count": 28,
   "id": "7a1c8fd3-3aef-4d10-bd5b-53973cb126c3",
   "metadata": {},
   "outputs": [
    {
     "name": "stdout",
     "output_type": "stream",
     "text": [
      "Decision Tree RMSE: 1119.06\n",
      "Training time: 0.20 seconds\n",
      "Prediction time: 0.01 seconds\n"
     ]
    }
   ],
   "source": [
    "\n",
    "# Decision Tree\n",
    "dt_model = DecisionTreeRegressor(random_state=42)\n",
    "\n",
    "start_train = time.time()\n",
    "dt_model.fit(x_train, y_train)\n",
    "end_train = time.time()\n",
    "\n",
    "start_pred = time.time()\n",
    "y_pred_dt = dt_model.predict(x_valid)\n",
    "end_pred = time.time()\n",
    "\n",
    "# RMSE\n",
    "rmse_dt = np.sqrt(mean_squared_error(y_valid, y_pred_dt))\n",
    "\n",
    "\n",
    "print(f'Decision Tree RMSE: {rmse:.2f}')\n",
    "print(f'Training time: {end_train - start_train:.2f} seconds')\n",
    "print(f'Prediction time: {end_pred - start_pred:.2f} seconds')"
   ]
  },
  {
   "cell_type": "code",
   "execution_count": 29,
   "id": "a07b8d3d-e8ea-4fbb-a1c3-42e8dea2ec49",
   "metadata": {},
   "outputs": [
    {
     "name": "stdout",
     "output_type": "stream",
     "text": [
      "Linear Regression Baseline RMSE: 1354.58\n",
      "Prediction time: 0.02 seconds\n"
     ]
    }
   ],
   "source": [
    "# Linear Regression\n",
    "lr_model = LinearRegression()\n",
    "lr_model.fit(x_train, y_train)\n",
    "\n",
    "start_pred = time.time()\n",
    "y_pred_lr = lr_model.predict(x_valid)\n",
    "end_pred = time.time()\n",
    "\n",
    "# RMSE\n",
    "rmse_lr = np.sqrt(mean_squared_error(y_valid, y_pred_lr))\n",
    "\n",
    "print(f'Linear Regression Baseline RMSE: {rmse_lr:.2f}')\n",
    "print(f'Prediction time: {end_pred - start_pred:.2f} seconds')"
   ]
  },
  {
   "cell_type": "code",
   "execution_count": 30,
   "id": "c9df6d5c-c6b6-46da-a4e0-8c653c4b2aeb",
   "metadata": {},
   "outputs": [
    {
     "name": "stdout",
     "output_type": "stream",
     "text": [
      "Random Forest Baseline MAE: 778.33\n",
      "Decision Tree Baseline MAE: 929.86\n",
      "Linear Regression Baseline MAE: 988.24\n"
     ]
    }
   ],
   "source": [
    "# Random Forest\n",
    "mae_rf = mean_absolute_error(y_valid, y_pred)\n",
    "print(f'Random Forest Baseline MAE: {mae_rf:.2f}')\n",
    "\n",
    "# Decision Tree\n",
    "mae_dt = mean_absolute_error(y_valid, y_pred_dt)\n",
    "print(f'Decision Tree Baseline MAE: {mae_dt:.2f}')\n",
    "\n",
    "# Linear Regression\n",
    "mae_lr = mean_absolute_error(y_valid, y_pred_lr)\n",
    "print(f'Linear Regression Baseline MAE: {mae_lr:.2f}')"
   ]
  },
  {
   "cell_type": "code",
   "execution_count": 31,
   "id": "638669c9-60f1-4738-a7ae-85afe26ef39e",
   "metadata": {},
   "outputs": [
    {
     "name": "stdout",
     "output_type": "stream",
     "text": [
      "CatBoost RMSE: 1119.06\n",
      "Training time: 0.20 seconds\n",
      "Prediction time: 0.02 seconds\n"
     ]
    }
   ],
   "source": [
    "# CatBoost\n",
    "cat_cols = np.where(x_train.dtypes == 'int64')[0].tolist() \n",
    "cat_model = CatBoostRegressor(verbose=0, random_state=42)\n",
    "\n",
    "start_time = time.time()\n",
    "cat_model.fit(x_train, y_train, cat_features=cat_cols)\n",
    "end_time = time.time()\n",
    "\n",
    "start_time = time.time()\n",
    "y_pred_cat = cat_model.predict(x_valid)\n",
    "end_time = time.time()\n",
    "\n",
    "rmse_cat = mean_squared_error(y_valid, y_pred_cat, squared=False)\n",
    "\n",
    "print(f'CatBoost RMSE: {rmse:.2f}')\n",
    "print(f'Training time: {end_train - start_train:.2f} seconds')\n",
    "print(f'Prediction time: {end_pred - start_pred:.2f} seconds')"
   ]
  },
  {
   "cell_type": "code",
   "execution_count": 35,
   "id": "c694dbfb-ab31-4d6a-af4d-d98232e9547c",
   "metadata": {},
   "outputs": [
    {
     "name": "stdout",
     "output_type": "stream",
     "text": [
      "LightGBM best params: {'subsample': 0.5, 'num_leaves': 31, 'n_estimators': 100, 'learning_rate': 0.1, 'colsample_bytree': 0.5}\n",
      "LightGBM best CV RMSE: 1226.0735017336933\n",
      "Training time: 164.04 seconds\n"
     ]
    }
   ],
   "source": [
    "# LightGBM \n",
    "\n",
    "x_sample = x_train.sample(n=3000, random_state=42)\n",
    "y_sample = y_train.loc[x_sample.index]\n",
    "\n",
    "\n",
    "param_grid_lgb = {\n",
    "    'n_estimators': [30, 50, 100],\n",
    "    'num_leaves': [15, 31],\n",
    "    'learning_rate': [0.1],\n",
    "    'colsample_bytree': [0.5],\n",
    "    'subsample': [0.5]\n",
    "}\n",
    "\n",
    "# Trying RandomizedSearchCV\n",
    "lgb_rs = RandomizedSearchCV(\n",
    "    estimator=lgb.LGBMRegressor(random_state=42),\n",
    "    param_distributions=param_grid_lgb,\n",
    "    n_iter=3,  \n",
    "    cv=2,\n",
    "    scoring='neg_root_mean_squared_error',\n",
    "    n_jobs=-1,\n",
    "    random_state=42\n",
    ")\n",
    "\n",
    "start_time = time.time()\n",
    "lgb_rs.fit(x_sample, y_sample)\n",
    "end_time = time.time()\n",
    "\n",
    "print('LightGBM best params:', lgb_rs.best_params_)\n",
    "print('LightGBM best CV RMSE:', -lgb_rs.best_score_)  # 負的 RMSE 要加負號轉正\n",
    "print(f'Training time: {end_time - start_time:.2f} seconds')"
   ]
  },
  {
   "cell_type": "markdown",
   "id": "ba080d5b-bff5-47b5-9d98-a139402befc9",
   "metadata": {},
   "source": [
    "## Conclusion\n",
    "\n",
    "Rusty Bargain is interested in three key aspects when selecting a machine learning model for car price prediction:\n",
    "\n",
    "1. **The quality of the prediction**  \n",
    " \n",
    "2. **The speed of the prediction**  \n",
    " \n",
    "3. **The time required for training**  \n",
    " \n",
    "---\n",
    "\n",
    "### Model Comparison\n",
    "\n",
    "| Model             | Test RMSE | Prediction Speed | Training Time (s) | Notes                         |\n",
    "|-------------------|-----------|------------------|-------------------|-------------------------------|\n",
    "| CatBoost          | 1119.06   | Very fast        | 0.19               | Overall good performance, recommended          |   \n",
    "| Random Forest     | 1119.06   | Fast             | 6.04               | Suitable for processing categorical features     |\n",
    "| Decision Tree     | 1119.06   | Very fast        | 0.19               | Single tree model, fast but may overfit            |\n",
    "| LightGBM          | 1226.07   | Very Slow        | 164.04             |  Poor predictions and very slow  |\n",
    "| Linear Regression | 1354.58   | Very fast        | 0.02               | Fastest but with the largest prediction error                |\n",
    "\n",
    "---\n",
    "\n",
    "### **Conclusion**\n",
    "\n",
    "- Based on the model comparison, CatBoost stands out as the best overall choice for car price prediction. It achieves the lowest Test RMSE (1119.06), offers very fast prediction speed, and requires only 0.19 seconds for training, making it highly efficient and accurate.\n",
    "\n",
    "- Random Forest also provides excellent accuracy, but its training time is noticeably longer. It may serve as a reliable alternative, especially when using scikit-learn’s ecosystem.\n",
    "\n",
    "- On the other hand, LightGBM underperforms in both prediction accuracy and training time in this task. Despite its popularity in many machine learning challenges, it is not recommended here without extensive tuning and optimization.\n",
    "\n",
    "- Decision Tree offers fast results but may suffer from overfitting, while Linear Regression, although extremely fast, produces the highest error and is not suitable for this regression problem.\n",
    "\n",
    "- In summary, CatBoost provides the best trade-off between accuracy, speed, and ease of use for this dataset.\n"
   ]
  },
  {
   "cell_type": "markdown",
   "id": "304c6827-58f9-4001-b629-ae4dba49cd00",
   "metadata": {},
   "source": []
  },
  {
   "cell_type": "markdown",
   "id": "cbfff017-eec7-4aba-bf36-1b8125459d60",
   "metadata": {},
   "source": []
  },
  {
   "cell_type": "markdown",
   "id": "e2f8274d-2183-4a51-ac89-5dac8def69ea",
   "metadata": {},
   "source": []
  },
  {
   "cell_type": "code",
   "execution_count": null,
   "id": "a8451a99-db08-43c6-9929-895e2130a7d2",
   "metadata": {},
   "outputs": [],
   "source": []
  }
 ],
 "metadata": {
  "kernelspec": {
   "display_name": "Python 3 (ipykernel)",
   "language": "python",
   "name": "python3"
  },
  "language_info": {
   "codemirror_mode": {
    "name": "ipython",
    "version": 3
   },
   "file_extension": ".py",
   "mimetype": "text/x-python",
   "name": "python",
   "nbconvert_exporter": "python",
   "pygments_lexer": "ipython3",
   "version": "3.12.0"
  }
 },
 "nbformat": 4,
 "nbformat_minor": 5
}
