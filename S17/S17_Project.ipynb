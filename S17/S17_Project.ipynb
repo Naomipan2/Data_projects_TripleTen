{
 "cells": [
  {
   "cell_type": "markdown",
   "metadata": {},
   "source": [
    "# <span style=\"color:#1B4F72\">Forecasting Client Retention for Interconnect Telecom</span>"
   ]
  },
  {
   "cell_type": "markdown",
   "metadata": {},
   "source": [
    "### Introduction (English)\n",
    "\n",
    "Customer retention is one of the most critical challenges for the telecommunications industry. With increasing competition and low switching costs, customers can easily move to other providers, leading to significant revenue losses. Identifying potential churners before they leave allows \"Interconnect Telecom\" to take proactive measures, such as offering promotional codes, enhancing customer service, or providing special plan options.  \n",
    "\n",
    "This project focuses on **<span style=\"color:#16A085\">predicting customer churn</span>** using historical customer data, including contract details, personal data, internet and phone service subscriptions. By leveraging machine learning models, the goal is to:  \n",
    "\n",
    "1. **<span style=\"color:#16A085\">Forecast customer churn probability</span>** with high accuracy.  \n",
    "2. **<span style=\"color:#16A085\">Identify key drivers of churn</span>** (e.g., contract type, monthly charges, service features).  \n",
    "3. **<span style=\"color:#16A085\">Provide actionable insights</span>** to help the company reduce churn and improve customer loyalty.  \n",
    "\n",
    "The outcome of this project will not only improve predictive capabilities but also enable the \"Interconnect Telecom\" to design effective **<span style=\"color:#16A085\">customer retention strategies</span>**, ultimately leading to reduced revenue loss and stronger long-term relationships with clients.  \n",
    "\n",
    "---\n",
    "\n",
    "### 專案簡介 (繁體中文)\n",
    "\n",
    "在電信產業中，**<span style=\"color:#16A085\">顧客留存</span>** 一直是最重要的挑戰之一。隨著市場競爭日益激烈與轉換成本降低，客戶往往能輕易轉向其他服務供應商，這將造成企業的重大營收損失。若能提前辨識可能流失的客戶，Interconnect電信業者 便能主動採取措施，例如提供個人化優惠、提升客服品質，或調整合約條件，以降低流失率。  \n",
    "\n",
    "本專案的目標是利用 **<span style=\"color:#16A085\">歷史客戶資料**</span>（包含合約資訊、個人特徵、網路與電話服務等），透過機器學習模型進行 **<span style=\"color:#16A085\">客戶流失預測</span>**。專案的核心目標包括：  \n",
    "\n",
    "1. **<span style=\"color:#16A085\">準確預測客戶流失機率</span>**，協助企業掌握風險。\n",
    "2. **<span style=\"color:#16A085\">找出流失的關鍵因素</span>**（例如合約類型、月費金額、服務內容等）。  \n",
    "3. **<span style=\"color:#16A085\">提供可行性建議</span>**，協助電信公司制定更有效的客戶留存策略。  \n",
    "\n",
    "透過此專案，企業不僅能提升流失預測的能力，更能藉由數據驅動的洞察，優化行銷與客服策略，進而降低營收損失並加強與顧客的長期關係。  "
   ]
  },
  {
   "cell_type": "markdown",
   "metadata": {},
   "source": [
    "## <span style=\"color:#1B4F72\">1. Data Understanding / 資料理解</span> \n",
    "- Import datasets (`contract.csv`, `internet.csv`, `personal.csv`, `phone.csv`)  \n",
    "- Merge on `customerID` to create a unified customer-level dataset "
   ]
  },
  {
   "cell_type": "code",
   "execution_count": 1,
   "metadata": {},
   "outputs": [],
   "source": [
    "import pandas as pd\n",
    "import numpy as np\n",
    "import seaborn as sns\n",
    "import matplotlib.pyplot as plt\n",
    "\n",
    "# Loading Datasets\n",
    "contract = pd.read_csv('/datasets/contract.csv')\n",
    "personal = pd.read_csv('/datasets/personal.csv')\n",
    "internet = pd.read_csv('/datasets/internet.csv')\n",
    "phone    = pd.read_csv('/datasets/phone.csv')"
   ]
  },
  {
   "cell_type": "code",
   "execution_count": 2,
   "metadata": {},
   "outputs": [
    {
     "name": "stdout",
     "output_type": "stream",
     "text": [
      "---CONTRACT---\n",
      "\n",
      "   customerid   begindate              enddate            type  \\\n",
      "0  7590-VHVEG  2020-01-01                   No  Month-to-month   \n",
      "1  5575-GNVDE  2017-04-01                   No        One year   \n",
      "2  3668-QPYBK  2019-10-01  2019-12-01 00:00:00  Month-to-month   \n",
      "3  7795-CFOCW  2016-05-01                   No        One year   \n",
      "4  9237-HQITU  2019-09-01  2019-11-01 00:00:00  Month-to-month   \n",
      "\n",
      "  paperlessbilling              paymentmethod  monthlycharges totalcharges  \n",
      "0              Yes           Electronic check           29.85        29.85  \n",
      "1               No               Mailed check           56.95       1889.5  \n",
      "2              Yes               Mailed check           53.85       108.15  \n",
      "3               No  Bank transfer (automatic)           42.30      1840.75  \n",
      "4              Yes           Electronic check           70.70       151.65  \n",
      "\n",
      "<class 'pandas.core.frame.DataFrame'>\n",
      "RangeIndex: 7043 entries, 0 to 7042\n",
      "Data columns (total 8 columns):\n",
      " #   Column            Non-Null Count  Dtype  \n",
      "---  ------            --------------  -----  \n",
      " 0   customerid        7043 non-null   object \n",
      " 1   begindate         7043 non-null   object \n",
      " 2   enddate           7043 non-null   object \n",
      " 3   type              7043 non-null   object \n",
      " 4   paperlessbilling  7043 non-null   object \n",
      " 5   paymentmethod     7043 non-null   object \n",
      " 6   monthlycharges    7043 non-null   float64\n",
      " 7   totalcharges      7043 non-null   object \n",
      "dtypes: float64(1), object(7)\n",
      "memory usage: 440.3+ KB\n",
      "None\n",
      "---PERSONAL---\n",
      "\n",
      "   customerid  gender  seniorcitizen partner dependents\n",
      "0  7590-VHVEG  Female              0     Yes         No\n",
      "1  5575-GNVDE    Male              0      No         No\n",
      "2  3668-QPYBK    Male              0      No         No\n",
      "3  7795-CFOCW    Male              0      No         No\n",
      "4  9237-HQITU  Female              0      No         No\n",
      "\n",
      "<class 'pandas.core.frame.DataFrame'>\n",
      "RangeIndex: 7043 entries, 0 to 7042\n",
      "Data columns (total 5 columns):\n",
      " #   Column         Non-Null Count  Dtype \n",
      "---  ------         --------------  ----- \n",
      " 0   customerid     7043 non-null   object\n",
      " 1   gender         7043 non-null   object\n",
      " 2   seniorcitizen  7043 non-null   int64 \n",
      " 3   partner        7043 non-null   object\n",
      " 4   dependents     7043 non-null   object\n",
      "dtypes: int64(1), object(4)\n",
      "memory usage: 275.2+ KB\n",
      "None\n",
      "---INTERNET---\n",
      "\n",
      "   unnamed:_0      id  mb_used session_date  user_id\n",
      "0           0  1000_0   112.95   2018-11-25     1000\n",
      "1           1  1000_1  1052.81   2018-09-07     1000\n",
      "2           2  1000_2  1197.26   2018-06-25     1000\n",
      "3           3  1000_3   550.27   2018-08-22     1000\n",
      "4           4  1000_4   302.56   2018-09-24     1000\n",
      "\n",
      "<class 'pandas.core.frame.DataFrame'>\n",
      "RangeIndex: 149396 entries, 0 to 149395\n",
      "Data columns (total 5 columns):\n",
      " #   Column        Non-Null Count   Dtype  \n",
      "---  ------        --------------   -----  \n",
      " 0   unnamed:_0    149396 non-null  int64  \n",
      " 1   id            149396 non-null  object \n",
      " 2   mb_used       149396 non-null  float64\n",
      " 3   session_date  149396 non-null  object \n",
      " 4   user_id       149396 non-null  int64  \n",
      "dtypes: float64(1), int64(2), object(2)\n",
      "memory usage: 5.7+ MB\n",
      "None\n",
      "---PHONE---\n",
      "\n",
      "   customerid multiplelines\n",
      "0  5575-GNVDE            No\n",
      "1  3668-QPYBK            No\n",
      "2  9237-HQITU            No\n",
      "3  9305-CDSKC           Yes\n",
      "4  1452-KIOVK           Yes\n",
      "\n",
      "<class 'pandas.core.frame.DataFrame'>\n",
      "RangeIndex: 6361 entries, 0 to 6360\n",
      "Data columns (total 2 columns):\n",
      " #   Column         Non-Null Count  Dtype \n",
      "---  ------         --------------  ----- \n",
      " 0   customerid     6361 non-null   object\n",
      " 1   multiplelines  6361 non-null   object\n",
      "dtypes: object(2)\n",
      "memory usage: 99.5+ KB\n",
      "None\n"
     ]
    }
   ],
   "source": [
    "dfs = {'contract':contract, 'personal':personal, 'internet':internet, 'phone':phone}\n",
    "\n",
    "for name, df in dfs.items():\n",
    "    df.columns = df.columns.str.strip().str.lower().str.replace(\" \", \"_\")\n",
    "\n",
    "    \n",
    "    print(f\"---{name.upper()}---\\n\")\n",
    "    print(df.head())\n",
    "    print()\n",
    "    print(df.info())"
   ]
  },
  {
   "cell_type": "markdown",
   "metadata": {},
   "source": [
    "#### Merge all files into one"
   ]
  },
  {
   "cell_type": "code",
   "execution_count": 3,
   "metadata": {},
   "outputs": [
    {
     "name": "stdout",
     "output_type": "stream",
     "text": [
      "(7043, 13)\n",
      "   customerid   begindate              enddate            type  \\\n",
      "0  7590-VHVEG  2020-01-01                   No  Month-to-month   \n",
      "1  5575-GNVDE  2017-04-01                   No        One year   \n",
      "2  3668-QPYBK  2019-10-01  2019-12-01 00:00:00  Month-to-month   \n",
      "3  7795-CFOCW  2016-05-01                   No        One year   \n",
      "4  9237-HQITU  2019-09-01  2019-11-01 00:00:00  Month-to-month   \n",
      "\n",
      "  paperlessbilling              paymentmethod  monthlycharges totalcharges  \\\n",
      "0              Yes           Electronic check           29.85        29.85   \n",
      "1               No               Mailed check           56.95       1889.5   \n",
      "2              Yes               Mailed check           53.85       108.15   \n",
      "3               No  Bank transfer (automatic)           42.30      1840.75   \n",
      "4              Yes           Electronic check           70.70       151.65   \n",
      "\n",
      "   gender  seniorcitizen partner dependents multiplelines  \n",
      "0  Female              0     Yes         No           NaN  \n",
      "1    Male              0      No         No            No  \n",
      "2    Male              0      No         No            No  \n",
      "3    Male              0      No         No           NaN  \n",
      "4  Female              0      No         No            No  \n"
     ]
    }
   ],
   "source": [
    "for df in [contract, personal, internet, phone]:\n",
    "    df.columns = df.columns.str.strip().str.lower().str.replace(\" \", \"_\")\n",
    "\n",
    "merged = contract.merge(personal, on='customerid', how='left')\\\n",
    "                 .merge(phone,    on='customerid', how='left')\n",
    "\n",
    "\n",
    "print(merged.shape)\n",
    "print(merged.head())"
   ]
  },
  {
   "cell_type": "code",
   "execution_count": 4,
   "metadata": {},
   "outputs": [
    {
     "name": "stdout",
     "output_type": "stream",
     "text": [
      "<class 'pandas.core.frame.DataFrame'>\n",
      "Int64Index: 7043 entries, 0 to 7042\n",
      "Data columns (total 13 columns):\n",
      " #   Column            Non-Null Count  Dtype  \n",
      "---  ------            --------------  -----  \n",
      " 0   customerid        7043 non-null   object \n",
      " 1   begindate         7043 non-null   object \n",
      " 2   enddate           7043 non-null   object \n",
      " 3   type              7043 non-null   object \n",
      " 4   paperlessbilling  7043 non-null   object \n",
      " 5   paymentmethod     7043 non-null   object \n",
      " 6   monthlycharges    7043 non-null   float64\n",
      " 7   totalcharges      7043 non-null   object \n",
      " 8   gender            7043 non-null   object \n",
      " 9   seniorcitizen     7043 non-null   int64  \n",
      " 10  partner           7043 non-null   object \n",
      " 11  dependents        7043 non-null   object \n",
      " 12  multiplelines     6361 non-null   object \n",
      "dtypes: float64(1), int64(1), object(11)\n",
      "memory usage: 770.3+ KB\n"
     ]
    }
   ],
   "source": [
    "merged.info()"
   ]
  },
  {
   "cell_type": "code",
   "execution_count": 5,
   "metadata": {},
   "outputs": [
    {
     "name": "stdout",
     "output_type": "stream",
     "text": [
      "   customerid              enddate  is_active\n",
      "0  7590-VHVEG                   No       True\n",
      "1  5575-GNVDE                   No       True\n",
      "2  3668-QPYBK  2019-12-01 00:00:00      False\n",
      "3  7795-CFOCW                   No       True\n",
      "4  9237-HQITU  2019-11-01 00:00:00      False\n"
     ]
    }
   ],
   "source": [
    "merged[\"is_active\"] = merged[\"enddate\"].eq(\"No\")   # True = Active customers.\n",
    "\n",
    "print(merged[[\"customerid\", \"enddate\", \"is_active\"]].head())"
   ]
  },
  {
   "cell_type": "markdown",
   "metadata": {},
   "source": [
    "## <span style=\"color:#1B4F72\">2. Data Preprocessing / 資料前處理</span> \n",
    "- Handle missing values:\n",
    "  - Drop or impute depending on feature type"
   ]
  },
  {
   "cell_type": "code",
   "execution_count": 6,
   "metadata": {},
   "outputs": [
    {
     "name": "stdout",
     "output_type": "stream",
     "text": [
      "Total duplicates: 0\n",
      "Duplicate customerid: 0\n",
      "Empty DataFrame\n",
      "Columns: [customerid, begindate, enddate, type, paperlessbilling, paymentmethod, monthlycharges, totalcharges, gender, seniorcitizen, partner, dependents, multiplelines, is_active]\n",
      "Index: []\n"
     ]
    }
   ],
   "source": [
    "print(\"Total duplicates:\", merged.duplicated().sum())\n",
    "print(\"Duplicate customerid:\", merged[\"customerid\"].duplicated().sum())\n",
    "duplicates = merged[merged.duplicated(subset=[\"customerid\"], keep=False)]\n",
    "print(duplicates.head())"
   ]
  },
  {
   "cell_type": "code",
   "execution_count": 7,
   "metadata": {},
   "outputs": [
    {
     "name": "stdout",
     "output_type": "stream",
     "text": [
      "customerid            0\n",
      "begindate             0\n",
      "enddate               0\n",
      "type                  0\n",
      "paperlessbilling      0\n",
      "paymentmethod         0\n",
      "monthlycharges        0\n",
      "totalcharges          0\n",
      "gender                0\n",
      "seniorcitizen         0\n",
      "partner               0\n",
      "dependents            0\n",
      "multiplelines       682\n",
      "is_active             0\n",
      "dtype: int64\n",
      "------------------------------------------------\n",
      "customerid          0.000000\n",
      "begindate           0.000000\n",
      "enddate             0.000000\n",
      "type                0.000000\n",
      "paperlessbilling    0.000000\n",
      "paymentmethod       0.000000\n",
      "monthlycharges      0.000000\n",
      "totalcharges        0.000000\n",
      "gender              0.000000\n",
      "seniorcitizen       0.000000\n",
      "partner             0.000000\n",
      "dependents          0.000000\n",
      "multiplelines       9.683374\n",
      "is_active           0.000000\n",
      "dtype: float64\n",
      "------------------------------------------------\n",
      "multiplelines    682\n",
      "dtype: int64\n"
     ]
    }
   ],
   "source": [
    "print(merged.isnull().sum())\n",
    "print('------------------------------------------------')\n",
    "print(merged.isnull().mean() * 100)\n",
    "print('------------------------------------------------')\n",
    "print(merged.isnull().sum()[merged.isnull().sum() > 0])"
   ]
  },
  {
   "cell_type": "code",
   "execution_count": 8,
   "metadata": {},
   "outputs": [
    {
     "name": "stdout",
     "output_type": "stream",
     "text": [
      "Dataset shape: (7043, 14)\n",
      "Total missing values: 682\n",
      "Total duplicates: 0\n"
     ]
    }
   ],
   "source": [
    "print(\"Dataset shape:\", merged.shape)\n",
    "print(\"Total missing values:\", merged.isnull().sum().sum())\n",
    "print(\"Total duplicates:\", merged.duplicated().sum())"
   ]
  },
  {
   "cell_type": "code",
   "execution_count": 9,
   "metadata": {},
   "outputs": [
    {
     "name": "stdout",
     "output_type": "stream",
     "text": [
      "customerid          0\n",
      "begindate           0\n",
      "enddate             0\n",
      "type                0\n",
      "paperlessbilling    0\n",
      "paymentmethod       0\n",
      "monthlycharges      0\n",
      "totalcharges        0\n",
      "gender              0\n",
      "seniorcitizen       0\n",
      "partner             0\n",
      "dependents          0\n",
      "multiplelines       0\n",
      "is_active           0\n",
      "dtype: int64\n"
     ]
    }
   ],
   "source": [
    "merged[\"is_active\"] = merged[\"enddate\"].isna()\n",
    "merged[\"multiplelines\"] = merged[\"multiplelines\"].fillna(\"Unknown\")\n",
    "\n",
    "print(merged.isnull().sum())"
   ]
  },
  {
   "cell_type": "markdown",
   "metadata": {},
   "source": [
    "#### Create target column: is_churn"
   ]
  },
  {
   "cell_type": "code",
   "execution_count": 10,
   "metadata": {},
   "outputs": [
    {
     "name": "stdout",
     "output_type": "stream",
     "text": [
      "0    0.73463\n",
      "1    0.26537\n",
      "Name: is_churn, dtype: float64\n"
     ]
    }
   ],
   "source": [
    "merged['enddate'] = merged['enddate'].astype(str)\n",
    "merged['is_churn'] = (merged['enddate'] != 'No').astype(int)\n",
    "\n",
    "id_cols = ['customerid']\n",
    "merged.drop(columns=[c for c in id_cols if c in merged.columns], inplace=True)\n",
    "\n",
    "print(merged['is_churn'].value_counts(normalize=True))"
   ]
  },
  {
   "cell_type": "markdown",
   "metadata": {},
   "source": [
    "## <span style=\"color:#1B4F72\">3. Exploratory Data Analysis (EDA) / 探索性資料分析</span> \n",
    "- Summary statistics for all features  \n",
    "- Visualizations:\n",
    "  - Distribution of target variable (`Churn`)  \n",
    "  - Correlation heatmap for numerical features  \n",
    "  - Boxplots/Histograms for continuous variables vs. `Churn`  \n",
    "  - Bar plots for categorical variables vs. `Churn`  \n",
    "- Identify potential data leakage features  "
   ]
  },
  {
   "cell_type": "markdown",
   "metadata": {},
   "source": [
    "#### Plot churn distribution"
   ]
  },
  {
   "cell_type": "code",
   "execution_count": 11,
   "metadata": {},
   "outputs": [
    {
     "data": {
      "image/png": "[encoded data removed]",
      "text/plain": [
       "<Figure size 600x400 with 1 Axes>"
      ]
     },
     "metadata": {},
     "output_type": "display_data"
    }
   ],
   "source": [
    "plt.figure(figsize=(6,4))\n",
    "sns.countplot(data=merged, x=\"is_churn\", palette=\"Set2\")\n",
    "plt.title(\"Churn Distribution\")\n",
    "plt.xlabel(\"Churn (1=Churned, 0=Active)\")\n",
    "plt.ylabel(\"Count\")\n",
    "plt.show()"
   ]
  },
  {
   "cell_type": "code",
   "execution_count": 12,
   "metadata": {},
   "outputs": [
    {
     "data": {
      "image/png": "[encoded data removed]",
      "text/plain": [
       "<Figure size 700x400 with 1 Axes>"
      ]
     },
     "metadata": {},
     "output_type": "display_data"
    },
    {
     "data": {
      "image/png": "[encoded data removed]",
      "text/plain": [
       "<Figure size 700x400 with 1 Axes>"
      ]
     },
     "metadata": {},
     "output_type": "display_data"
    },
    {
     "data": {
      "image/png": "[encoded data removed]",
      "text/plain": [
       "<Figure size 700x400 with 1 Axes>"
      ]
     },
     "metadata": {},
     "output_type": "display_data"
    },
    {
     "data": {
      "image/png": "[encoded data removed]",
      "text/plain": [
       "<Figure size 700x400 with 1 Axes>"
      ]
     },
     "metadata": {},
     "output_type": "display_data"
    }
   ],
   "source": [
    "# Helper to plot churn rate bar chart for a categorical column\n",
    "def plot_churn_rate(df, col, title, xlabel):\n",
    "    rate = df.groupby(col)[\"is_churn\"].mean().sort_values(ascending=False)\n",
    "    plt.figure(figsize=(7,4))\n",
    "    rate.plot(kind=\"bar\")\n",
    "    plt.ylim(0, 1)\n",
    "    plt.ylabel(\"Churn Rate\")\n",
    "    plt.xlabel(xlabel)\n",
    "    plt.xticks(rotation=0)\n",
    "    plt.title(title)\n",
    "    plt.tight_layout()\n",
    "    plt.show()\n",
    "\n",
    "# 4) Contract type vs churn\n",
    "plot_churn_rate(merged, \"type\", \"Churn Rate by Contract Type\", \"Contract Type\")\n",
    "\n",
    "# 5) Payment method vs churn\n",
    "plot_churn_rate(merged, \"paymentmethod\", \"Churn Rate by Payment Method\", \"Payment Method\")\n",
    "\n",
    "# 6) Gender vs churn\n",
    "plot_churn_rate(merged, \"gender\", \"Churn Rate by Gender\", \"Gender\")\n",
    "\n",
    "# 7) Multiple lines vs churn (fill missing as 'Unknown')\n",
    "merged[\"multiplelines\"] = merged[\"multiplelines\"].fillna(\"Unknown\")\n",
    "plot_churn_rate(merged, \"multiplelines\", \"Churn Rate by Multiple Lines\", \"Multiple Lines\")"
   ]
  },
  {
   "cell_type": "markdown",
   "metadata": {},
   "source": [
    "# <span style=\"color:#1B4F72\">Churn Analysis Report</span>\n",
    "\n",
    "#### 1. Contract Type\n",
    "- **Month-to-month**: Highest churn rate, above **40%**.  \n",
    "- **One year**: Moderate churn rate, around **10%**.  \n",
    "- **Two year**: Lowest churn rate, close to **3–4%**.  \n",
    "\n",
    " *Interpretation*: Short-term (month-to-month) customers are the most vulnerable and highly prone to churn. Long-term contracts significantly reduce churn by locking customers in and increasing loyalty.  \n",
    "\n",
    "---\n",
    "\n",
    "#### 2. Payment Method\n",
    "- **Electronic check**: Very high churn rate, almost **45%**.  \n",
    "- **Mailed check, Bank transfer (automatic), Credit card (automatic)**: Churn rate around **15–20%**.  \n",
    "\n",
    " *Interpretation*: Customers paying via electronic check churn much more frequently. Automatic payments (bank transfer, credit card) help lower churn, likely due to convenience and stronger binding.  \n",
    "\n",
    "---\n",
    "\n",
    "#### 3. Gender\n",
    "- Male and female churn rates are almost identical (**~26–27%**).  \n",
    "\n",
    "*Interpretation*: Gender is not a meaningful predictor of churn.  \n",
    "\n",
    "---\n",
    "\n",
    "#### 4. Multiple Phone Lines\n",
    "- **Yes**: Churn rate around **28–29%**.  \n",
    "- **No**: Churn rate around **25–26%**.  \n",
    "- **Unknown**: Similar to \"No,\" about **25–26%**.  \n",
    "\n",
    " *Interpretation*: Having multiple lines shows only a slight increase in churn risk, but the effect is relatively minor compared to contract type or payment method.  \n",
    "\n",
    "---\n",
    "\n",
    "#### Key Insights\n",
    "1. **Contract type** is the strongest churn driver — month-to-month customers are at the highest risk.  \n",
    "2. **Payment method** matters — electronic check users churn much more.  \n",
    "3. **Gender** has little to no impact on churn.  \n",
    "4. **Multiple lines** have only a small effect on churn likelihood.  \n",
    "\n",
    "---\n",
    "# <span style=\"color:#1B4F72\">客戶流失分析報告</span>\n",
    "\n",
    "#### 1. 合約類型 \n",
    "- **月繳**：流失率最高，超過 **40%**。  \n",
    "- **一年合約**：中等流失率，約 **10%**。  \n",
    "- **兩年合約**：流失率最低，接近 **3–4%**。  \n",
    "\n",
    "*解讀*：短期（月繳）客戶最脆弱、最容易流失。長期合約能顯著降低流失率，因為它能綁住客戶並提升忠誠度。  \n",
    "\n",
    "---\n",
    "\n",
    "#### 2. 支付方式\n",
    "- **電子支票**：流失率非常高，接近 **45%**。  \n",
    "- **郵寄支票、銀行自動轉帳、信用卡自動扣款**：流失率約 **15–20%**。  \n",
    "\n",
    " *解讀*：使用電子支票付款的客戶流失率明顯較高。自動付款（銀行轉帳、信用卡）則能降低流失，可能因為便利性與綁定性更強。  \n",
    "\n",
    "---\n",
    "\n",
    "#### 3. 性別 \n",
    "- 男性與女性的流失率幾乎相同（約 **26–27%**）。  \n",
    "\n",
    "*解讀*：性別不是影響流失的重要因子。  \n",
    "\n",
    "---\n",
    "\n",
    "#### 4. 多重電話線\n",
    "- **有**：流失率約 **28–29%**。  \n",
    "- **沒有**：流失率約 **25–26%**。  \n",
    "- **未知**：與「沒有」相似，約 **25–26%**。  \n",
    "\n",
    " *解讀*：擁有多條電話線的客戶流失率略高，但差異不大，影響程度遠小於合約或付款方式。  \n",
    "\n",
    "---\n",
    "\n",
    "### 關鍵洞察\n",
    "1. **合約類型** 是最強的流失驅動因子 —— 月繳客戶風險最高。  \n",
    "2. **支付方式** 也很重要 —— 使用電子支票的客戶流失率顯著更高。  \n",
    "3. **性別** 幾乎沒有影響。  \n",
    "4. **多重電話線** 僅有些微影響。  \n"
   ]
  },
  {
   "cell_type": "markdown",
   "metadata": {},
   "source": [
    "#### Work Plan :\n",
    "\n",
    "1. **Perform Exploratory Data Analysis (EDA)**  \n",
    "   - Conduct an in-depth analysis of the datasets to identify key trends, distributions, and potential data quality issues.  \n",
    "   - Visualize churn patterns across demographic, contract, and service-related features.  \n",
    "\n",
    "2. **Preprocess and Merge Datasets**  \n",
    "   - Standardize column names and data types.  \n",
    "   - Merge multiple datasets on `customerid`.  \n",
    "   - Handle missing values, outliers, and categorical encoding to ensure model readiness.  \n",
    "\n",
    "3. **Build and Train Classification Models**  \n",
    "   - Start with baseline models (e.g., Logistic Regression) for interpretability.  \n",
    "   - Experiment with advanced models (e.g., LightGBM) to capture nonlinear relationships.  \n",
    "   - Perform hyperparameter tuning for optimal performance.  \n",
    "\n",
    "4. **Evaluate Model Performance**  \n",
    "   - Use **AUC-ROC** as the primary metric for churn prediction effectiveness.  \n",
    "   - Track **Accuracy, Precision, Recall, and F1-score** to ensure balanced performance across classes.  \n",
    "   - Validate results with cross-validation to ensure generalizability.  \n",
    "\n",
    "5. **Generate Business Insights and Recommendations**  \n",
    "   - Translate model findings into actionable strategies (e.g., retention programs for high-risk groups).  \n",
    "   - Highlight the most influential churn drivers to support decision-making.  \n",
    "\n",
    "6. **Set Success Criteria**  \n",
    "   - Aim to achieve an **AUC-ROC ≥ 0.85**.  \n",
    "   - Meeting or exceeding this benchmark will maximize sprint points and demonstrate project success.  \n",
    "\n",
    "\n",
    "#### 工作計畫\n",
    "\n",
    "1. **進行探索性資料分析 (EDA)**  \n",
    "   - 深入分析資料集，找出關鍵趨勢、分布，以及潛在的資料品質問題。  \n",
    "   - 視覺化不同人口統計、合約與服務特徵下的流失模式。  \n",
    "\n",
    "2. **資料前處理與合併**  \n",
    "   - 標準化欄位名稱與資料型態。  \n",
    "   - 依 `customerid` 合併多個資料集。  \n",
    "   - 處理遺漏值、異常值，並完成類別編碼，確保能進行建模。  \n",
    "\n",
    "3. **建立並訓練分類模型**  \n",
    "   - 以邏輯迴歸 (Logistic Regression) 作為基準模型，強調可解釋性。  \n",
    "   - 嘗試進階模型 (如 LightGBM) 捕捉非線性關係。  \n",
    "   - 進行超參數調校以提升效能。  \n",
    "\n",
    "4. **模型效能評估**  \n",
    "   - 以 **AUC-ROC** 作為主要指標，用於衡量流失預測的準確性。  \n",
    "   - 追蹤 **準確率 (Accuracy)、精確率 (Precision)、召回率 (Recall)、F1-score**，確保模型在各類別的平衡表現。  \n",
    "   - 透過交叉驗證 (Cross-validation) 驗證結果的穩健性。  \n",
    "\n",
    "5. **產出商業洞察與建議**  \n",
    "   - 將模型結果轉化為可執行的策略（例如針對高風險群體設計留存方案）。  \n",
    "   - 強調最具影響力的流失因子，支持決策制定。  \n",
    "\n",
    "6. **設定成功標準**  \n",
    "   - 目標為達成 **AUC-ROC ≥ 0.85**。  \n",
    "   - 達成或超越此基準將獲得最高 sprint 分數，並展現專案成功。  "
   ]
  },
  {
   "cell_type": "markdown",
   "metadata": {},
   "source": [
    "## <span style=\"color:#1B4F72\">4. Feature Engineering / 特徵工程</span> "
   ]
  },
  {
   "cell_type": "code",
   "execution_count": 13,
   "metadata": {},
   "outputs": [],
   "source": [
    "from sklearn.model_selection import train_test_split, cross_validate\n",
    "from sklearn.preprocessing import OneHotEncoder, StandardScaler\n",
    "from sklearn.compose import ColumnTransformer\n",
    "from sklearn.pipeline import Pipeline\n",
    "from sklearn.base import BaseEstimator, TransformerMixin\n",
    "from sklearn.ensemble import RandomForestClassifier\n",
    "from sklearn.feature_selection import SelectFromModel\n",
    "from sklearn.linear_model import LogisticRegression\n",
    "from sklearn.metrics import roc_auc_score, classification_report, confusion_matrix, accuracy_score, f1_score, roc_curve"
   ]
  },
  {
   "cell_type": "code",
   "execution_count": 14,
   "metadata": {},
   "outputs": [
    {
     "name": "stdout",
     "output_type": "stream",
     "text": [
      "Data types in merged dataframe:\n",
      "begindate            object\n",
      "enddate              object\n",
      "type                 object\n",
      "paperlessbilling     object\n",
      "paymentmethod        object\n",
      "monthlycharges      float64\n",
      "totalcharges         object\n",
      "gender               object\n",
      "seniorcitizen         int64\n",
      "partner              object\n",
      "dependents           object\n",
      "multiplelines        object\n",
      "is_active              bool\n",
      "is_churn              int64\n",
      "dtype: object\n",
      "\n",
      "Columns with datetime:\n"
     ]
    }
   ],
   "source": [
    "# Check data types in merged dataframe\n",
    "\n",
    "print(\"Data types in merged dataframe:\")\n",
    "print(merged.dtypes)\n",
    "print(\"\\nColumns with datetime:\")"
   ]
  },
  {
   "cell_type": "code",
   "execution_count": 15,
   "metadata": {},
   "outputs": [
    {
     "name": "stdout",
     "output_type": "stream",
     "text": [
      "Shape after cleaning: (7043, 20)\n",
      "Data types: object            9\n",
      "int64             5\n",
      "uint8             3\n",
      "bool              1\n",
      "datetime64[ns]    1\n",
      "float64           1\n",
      "dtype: int64\n"
     ]
    }
   ],
   "source": [
    "merged['begindate'] = pd.to_datetime(merged['begindate'], errors='coerce')\n",
    "merged['begin_year'] = merged['begindate'].dt.year\n",
    "merged['begin_month'] = merged['begindate'].dt.month\n",
    "merged['begin_day_of_week'] = merged['begindate'].dt.dayofweek  # 0=Monday, 6=Sunday\n",
    "merged['begin_season'] = merged['begindate'].dt.month.map({\n",
    "    12: 'Winter', 1: 'Winter', 2: 'Winter',\n",
    "    3: 'Spring', 4: 'Spring', 5: 'Spring',\n",
    "    6: 'Summer', 7: 'Summer', 8: 'Summer',\n",
    "    9: 'Fall', 10: 'Fall', 11: 'Fall'\n",
    "})\n",
    "\n",
    "merged = pd.get_dummies(merged, columns=['begin_season'], drop_first=True)\n",
    "\n",
    "print(\"Shape after cleaning:\", merged.shape)\n",
    "print(\"Data types:\", merged.dtypes.value_counts())"
   ]
  },
  {
   "cell_type": "code",
   "execution_count": 16,
   "metadata": {},
   "outputs": [],
   "source": [
    "# Create quarters as categories\n",
    "merged['begin_quarter'] = merged['begindate'].dt.to_period('Q').astype(str)\n",
    "\n",
    "def get_business_period(date):\n",
    "    if date.year <= 2017:\n",
    "        return 'Early_Period'\n",
    "    elif date.year <= 2019:\n",
    "        return 'Growth_Period'  \n",
    "    else:\n",
    "        return 'Recent_Period'\n",
    "\n",
    "merged['business_period'] = merged['begindate'].apply(get_business_period)"
   ]
  },
  {
   "cell_type": "code",
   "execution_count": 17,
   "metadata": {},
   "outputs": [
    {
     "name": "stdout",
     "output_type": "stream",
     "text": [
      "Datetime columns: ['begindate']\n"
     ]
    }
   ],
   "source": [
    "datetime_cols = merged.select_dtypes(include=['datetime64']).columns.tolist()\n",
    "print(\"Datetime columns:\", datetime_cols)"
   ]
  },
  {
   "cell_type": "code",
   "execution_count": 18,
   "metadata": {},
   "outputs": [
    {
     "name": "stdout",
     "output_type": "stream",
     "text": [
      "Top 15 Most Important Features:\n",
      "totalcharges                      0.192855\n",
      "monthlycharges                    0.177792\n",
      "begin_month                       0.081105\n",
      "begin_day_of_week                 0.062313\n",
      "paymentmethod_Electronic check    0.057976\n",
      "begin_year                        0.057252\n",
      "business_period_Growth_Period     0.049216\n",
      "type_Two year                     0.041013\n",
      "paperlessbilling_Yes              0.033743\n",
      "type_One year                     0.029219\n",
      "gender_Male                       0.027110\n",
      "partner_Yes                       0.023859\n",
      "seniorcitizen                     0.023318\n",
      "dependents_Yes                    0.022589\n",
      "multiplelines_Yes                 0.020674\n",
      "dtype: float64\n"
     ]
    }
   ],
   "source": [
    "merged['totalcharges'] = pd.to_numeric(merged['totalcharges'], errors='coerce')\n",
    "merged['totalcharges'] = merged['totalcharges'].fillna(merged['totalcharges'].median())\n",
    "\n",
    "# Remove data leakage columns\n",
    "columns_to_drop = ['begindate', 'enddate', 'is_churn', 'begin_quarter']\n",
    "X = merged.drop(columns=columns_to_drop)\n",
    "y = merged[\"is_churn\"]\n",
    "\n",
    "\n",
    "categorical_cols = ['type', 'paperlessbilling', 'paymentmethod', \n",
    "                   'gender', 'partner', 'dependents', 'multiplelines', \n",
    "                   'business_period'] \n",
    "\n",
    "# Apply one-hot encoding to all categorical columns\n",
    "X_encoded = pd.get_dummies(X, columns=categorical_cols, drop_first=True)\n",
    "\n",
    "X_sample, _, y_sample, _ = train_test_split(\n",
    "    X_encoded, y, train_size=0.2, random_state=42, stratify=y\n",
    ")\n",
    "\n",
    "rf_sample = RandomForestClassifier(n_estimators=50, random_state=42)\n",
    "rf_sample.fit(X_sample, y_sample)\n",
    "\n",
    "# Get feature importance\n",
    "feature_importance = pd.Series(\n",
    "    rf_sample.feature_importances_, \n",
    "    index=X_encoded.columns\n",
    ").sort_values(ascending=False)\n",
    "\n",
    "\n",
    "print(\"Top 15 Most Important Features:\")\n",
    "print(feature_importance.head(15))"
   ]
  },
  {
   "cell_type": "code",
   "execution_count": 19,
   "metadata": {},
   "outputs": [
    {
     "data": {
      "image/png": "[encoded data removed]",
      "text/plain": [
       "<Figure size 800x500 with 1 Axes>"
      ]
     },
     "metadata": {},
     "output_type": "display_data"
    }
   ],
   "source": [
    "plt.figure(figsize=(8,5))\n",
    "top15 = feature_importance.head(15)\n",
    "plt.barh(top15.index, top15.values, color=\"teal\")  # Use .index and .values\n",
    "plt.gca().invert_yaxis()\n",
    "plt.title(\"Top 15 Features by Random Forest Feature Importance\")\n",
    "plt.xlabel(\"Feature Importance\")\n",
    "plt.show()"
   ]
  },
  {
   "cell_type": "markdown",
   "metadata": {},
   "source": [
    "## <span style=\"color:#1B4F72\">Random Forest Feature Importance / 隨機森林特徵重要性</span>\n",
    "\n",
    "#### Top 15 Features / 前 15 個重要特徵\n",
    "1. **totalcharges**  \n",
    "2. **monthlycharges**  \n",
    "3. **begin_month**  \n",
    "4. **begin_day_of_week**  \n",
    "5. **paymentmethod_Electronic check**  \n",
    "6. **begin_year**  \n",
    "7. **business_period_Growth_Period**  \n",
    "8. **type_Two year**  \n",
    "9. **paperlessbilling_Yes**  \n",
    "10. **type_One year**  \n",
    "11. **gender_Male**  \n",
    "12. **partner_Yes**  \n",
    "13. **seniorcitizen**  \n",
    "14. **dependents_Yes**  \n",
    "15. **multiplelines_Yes**  \n",
    "\n",
    "---\n",
    "\n",
    "#### Interpretation / 解讀\n",
    "- **totalcharges & monthlycharges (總收費 & 月收費)**  \n",
    "  - 兩者是影響客戶流失預測最強的特徵。\n",
    "  - These are the strongest predictors of customer churn\n",
    "  - 收費相關變數反映了客戶價值與消費模式，與是否流失高度相關。\n",
    "  - Billing-related variables reflect customer value and spending patterns, which are highly correlated with churn behavior.  \n",
    "\n",
    "- **begin_month, begin_day_of_week, begin_year (入網時間相關特徵)**  \n",
    "  - 反映出客戶何時加入服務，可能與合約週期、促銷活動有關。\n",
    "  - These capture when the customer joined the service, which may be associated with contract cycles or promotional campaigns. \n",
    "\n",
    "- **paymentmethod_Electronic check (付款方式：電子支票)**  \n",
    "  - 支付方式對流失有顯著影響，電子支票使用者流失率可能較高。\n",
    "  - Payment method significantly impacts churn, with electronic check users showing a higher likelihood of churn. \n",
    "\n",
    "- **contract type (type_Two year, type_One year)**  \n",
    "  - 合約長度明顯影響流失率，長期合約用戶通常流失率較低。\n",
    "  - Contract length strongly affects churn—customers with longer-term contracts usually have lower churn rates.  \n",
    "\n",
    "- **demographics (gender, partner, seniorcitizen, dependents)**  \n",
    "  - 雖然影響力較小，但仍提供額外的行為解釋。\n",
    "  - Although their influence is weaker, they still provide additional behavioral insights. \n",
    "\n",
    "---\n",
    "\n",
    "#### Conclusion / 結論\n",
    "- **財務相關特徵 (totalcharges, monthlycharges)** 是模型最重要的驅動因子。\n",
    "- **Financial features (totalcharges, monthlycharges)** are the most important drivers of churn prediction.\n",
    "- **合約長度與付款方式** 也顯著影響客戶流失。\n",
    "- **Contract length and payment method** also have a strong impact on churn.\n",
    "- **人口統計特徵 (年齡、性別、家庭狀況)** 影響相對較弱，但可作為輔助解釋。\n",
    "- **Demographic features (age, gender, household situation)** are relatively weaker but useful for supplementary interpretation.\n",
    "- 總體來看，Random Forest 提供了清晰的變數貢獻排序，幫助我們了解哪些特徵最值得在客戶留存策略中關注。\n",
    "- Overall, Random Forest provides a clear ranking of feature contributions, helping us identify which features are most valuable for designing customer retention strategies.  "
   ]
  },
  {
   "cell_type": "markdown",
   "metadata": {},
   "source": [
    "## <span style=\"color:#1B4F72\">5. Modeling / 建模</span> \n",
    "- Split dataset:\n",
    "  - Train (70%), Validation (15%), Test (15%)  \n",
    "- Baseline model:\n",
    "  - Logistic Regression  \n",
    "- Advanced models:\n",
    "  - Gradient Boosting (XGBoost)  \n",
    "- Compare model performance  "
   ]
  },
  {
   "cell_type": "code",
   "execution_count": 20,
   "metadata": {},
   "outputs": [
    {
     "name": "stdout",
     "output_type": "stream",
     "text": [
      "Train shape: (4930, 23) (4930,)\n",
      "Validation shape: (1056, 23) (1056,)\n",
      "Test shape: (1057, 23) (1057,)\n"
     ]
    }
   ],
   "source": [
    "# Split data\n",
    "X_train, X_temp, y_train, y_temp = train_test_split(\n",
    "    X_encoded, y, test_size=0.3, random_state=42, stratify=y\n",
    ")\n",
    "\n",
    "# Then split temp into validation and test\n",
    "X_valid, X_test, y_valid, y_test = train_test_split(\n",
    "    X_temp, y_temp, test_size=0.5, random_state=42, stratify=y_temp\n",
    ")\n",
    "\n",
    "print(\"Train shape:\", X_train.shape, y_train.shape)\n",
    "print(\"Validation shape:\", X_valid.shape, y_valid.shape)\n",
    "print(\"Test shape:\", X_test.shape, y_test.shape)"
   ]
  },
  {
   "cell_type": "code",
   "execution_count": 21,
   "metadata": {},
   "outputs": [
    {
     "name": "stdout",
     "output_type": "stream",
     "text": [
      "Accuracy (CV): 0.802925188721853\n",
      "ROC-AUC (CV): 0.8460347415143277\n"
     ]
    }
   ],
   "source": [
    "# Scale the features (使用 5-fold 交叉驗證，更穩健的評估)\n",
    "scaler = StandardScaler()\n",
    "X_scaled = scaler.fit_transform(X_encoded)\n",
    "\n",
    "# Now train the model\n",
    "model = LogisticRegression(max_iter=1000)\n",
    "scoring = {\n",
    "    \"accuracy\": \"accuracy\",\n",
    "    \"roc_auc\": \"roc_auc\"\n",
    "}\n",
    "\n",
    "results = cross_validate(\n",
    "    model,\n",
    "    X_scaled,\n",
    "    y,\n",
    "    cv=5,\n",
    "    scoring=scoring,\n",
    "    return_train_score=True\n",
    ")\n",
    "\n",
    "print(\"Accuracy (CV):\", results[\"test_accuracy\"].mean())\n",
    "print(\"ROC-AUC (CV):\", results[\"test_roc_auc\"].mean())"
   ]
  },
  {
   "cell_type": "markdown",
   "metadata": {},
   "source": [
    "## <span style=\"color:#1B4F72\">6. Model Evaluation / 模型評估</span>\n",
    "  - Evaluation metrics:\n",
    "  - Accuracy  \n",
    "  - Precision, Recall, F1-score  \n",
    "  - ROC-AUC  \n",
    "- Plot evaluation:\n",
    "  - ROC Curve  \n",
    "  - Confusion Matrix  \n",
    "  - Precision-Recall Curve  \n",
    "- Select the best-performing model based on ROC-AUC and business requirements (e.g., higher recall for reducing customer churn risk)"
   ]
  },
  {
   "cell_type": "code",
   "execution_count": 22,
   "metadata": {},
   "outputs": [],
   "source": [
    "from xgboost import XGBClassifier\n",
    "import xgboost as xgb\n",
    "from sklearn.model_selection import GridSearchCV, RandomizedSearchCV\n",
    "from sklearn.metrics import precision_recall_curve, f1_score"
   ]
  },
  {
   "cell_type": "code",
   "execution_count": 23,
   "metadata": {},
   "outputs": [
    {
     "name": "stdout",
     "output_type": "stream",
     "text": [
      "XGBoost Model\n",
      "AUC-ROC: 0.9085785302857982\n",
      "Accuracy: 0.8732261116367077\n"
     ]
    }
   ],
   "source": [
    "model_xgb = xgb.XGBClassifier(\n",
    "    n_estimators=200,\n",
    "    max_depth=5,\n",
    "    learning_rate=0.1,\n",
    "    use_label_encoder=False,\n",
    "    eval_metric='logloss',\n",
    "    random_state=42\n",
    ")\n",
    "\n",
    "# Train the model\n",
    "model_xgb.fit(X_train, y_train)\n",
    "\n",
    "# Predict\n",
    "y_pred_xgb = model_xgb.predict(X_test)\n",
    "y_proba_xgb = model_xgb.predict_proba(X_test)[:, 1]\n",
    "\n",
    "# Evaluate\n",
    "print(\"XGBoost Model\")\n",
    "print(\"AUC-ROC:\", roc_auc_score(y_test, y_proba_xgb))\n",
    "print(\"Accuracy:\", accuracy_score(y_test, y_pred_xgb))\n"
   ]
  },
  {
   "cell_type": "markdown",
   "metadata": {},
   "source": [
    "## <span style=\"color:#1B4F72\">Initial XGBoost Model Evaluation / XGBoost 初步模型評估</span>\n",
    "\n",
    "### Conclusion / 結論\n",
    "- The XGBoost model shows **high discriminative power (AUC ≈ 0.91)** and **solid accuracy (≈ 87%)**.  \n",
    "- 模型具有 **很高的判別能力 (AUC ≈ 0.91)**，同時 **準確率也達到 87%**，代表它對客戶流失預測有不錯的效果。"
   ]
  },
  {
   "cell_type": "code",
   "execution_count": null,
   "metadata": {},
   "outputs": [],
   "source": [
    "# Define parameter grid\n",
    "param_grid = {\n",
    "    'n_estimators': [100, 200],\n",
    "    'max_depth': [3, 5],\n",
    "    'learning_rate': [0.1, 0.2],\n",
    "}\n",
    "\n",
    "# Use RandomizedSearchCV for efficiency\n",
    "xgb_random = RandomizedSearchCV(\n",
    "    XGBClassifier(use_label_encoder=False, eval_metric='logloss', random_state=42),\n",
    "    param_grid,\n",
    "    n_iter=8,\n",
    "    cv=2,\n",
    "    scoring='roc_auc',\n",
    "    random_state=42\n",
    ")\n",
    "\n",
    "# Fit on training data\n",
    "X_sample = X_train.sample(frac=0.2, random_state=42)\n",
    "y_sample = y_train[X_sample.index]\n",
    "\n",
    "xgb_random.fit(X_sample, y_sample)\n",
    "print(\"Best parameters:\", xgb_random.best_params_)"
   ]
  },
  {
   "cell_type": "code",
   "execution_count": null,
   "metadata": {},
   "outputs": [],
   "source": [
    "# Train again with the best parameters.\n",
    "model_xgb_final = xgb.XGBClassifier(\n",
    "    n_estimators=100,\n",
    "    max_depth=3,\n",
    "    learning_rate=0.1,\n",
    "    use_label_encoder=False,\n",
    "    eval_metric='logloss',\n",
    "    random_state=42\n",
    ")\n",
    "\n",
    "# Train the model\n",
    "model_xgb_final.fit(X_train, y_train)\n",
    "\n",
    "# Predict\n",
    "y_pred_xgb = model_xgb_final.predict(X_test)\n",
    "y_proba_xgb = model_xgb_final.predict_proba(X_test)[:, 1]\n",
    "\n",
    "# Evaluate\n",
    "print(\"XGBoost Model_Final\")\n",
    "print(\"AUC-ROC:\", roc_auc_score(y_test, y_proba_xgb))\n",
    "print(\"Accuracy:\", accuracy_score(y_test, y_pred_xgb))"
   ]
  },
  {
   "cell_type": "markdown",
   "metadata": {},
   "source": [
    "## <span style=\"color:#1B4F72\">XGBoost Model (Final) Evaluation / XGBoost 最終模型評估 </span>\n",
    "\n",
    "### Conclusion / 結論\n",
    "- Compared with the previous run (AUC ≈ 0.91, Accuracy ≈ 88%), this tuned model trades some AUC for a simpler structure (shallower depth and fewer trees).  \n",
    "- 與前一次 (AUC ≈ 0.91, Accuracy ≈ 88%) 相比，這個調參後的模型雖然效能略降，但結構更簡單（樹更淺、迭代次數更少），在避免過擬合與計算效率上更有優勢。  "
   ]
  },
  {
   "cell_type": "code",
   "execution_count": null,
   "metadata": {},
   "outputs": [],
   "source": [
    "# Get probabilities on validation set\n",
    "y_proba_val = model_xgb.predict_proba(X_valid)[:, 1]\n",
    "\n",
    "# Try different thresholds\n",
    "thresholds = np.arange(0.1, 0.9, 0.05)\n",
    "f1_scores = []\n",
    "\n",
    "for threshold in thresholds:\n",
    "    y_pred_thresh = (y_proba_val >= threshold).astype(int)\n",
    "    f1 = f1_score(y_valid, y_pred_thresh)\n",
    "    f1_scores.append(f1)\n",
    "\n",
    "# Find best threshold\n",
    "best_threshold = thresholds[np.argmax(f1_scores)]\n",
    "print(f\"Best threshold: {best_threshold:.2f}\")\n",
    "print(f\"Best F1 score: {max(f1_scores):.3f}\")\n",
    "\n",
    "# Plot threshold vs F1 score\n",
    "plt.figure(figsize=(8, 5))\n",
    "plt.plot(thresholds, f1_scores, marker='o')\n",
    "plt.axvline(x=best_threshold, color='red', linestyle='--', label=f'Best: {best_threshold:.2f}')\n",
    "plt.xlabel('Threshold')\n",
    "plt.ylabel('F1 Score')\n",
    "plt.title('F1 Score vs Classification Threshold')\n",
    "plt.legend()\n",
    "plt.show()"
   ]
  },
  {
   "cell_type": "markdown",
   "metadata": {},
   "source": [
    "## <span style=\"color:#1B4F72\">Threshold Tuning with F1 Score / 使用 F1 分數調整分類閾值 </span>\n",
    "\n",
    "### Why Threshold Tuning? / 為什麼要調整閾值？\n",
    "- By default, classifiers use **0.5** as the probability threshold to classify 0/1.  \n",
    "- 預設分類器會使用 **0.5** 作為機率閾值來判斷 0/1。  \n",
    "- However, this may not maximize the performance metric we care about (e.g., **F1-score** for imbalanced data).  \n",
    "- 但這未必能最大化我們關心的評估指標（例如 **F1 分數**，特別在數據不平衡時）。  \n",
    "\n",
    "---\n",
    "\n",
    "### Results / 結果\n",
    "- **Best threshold 最佳閾值**: **0.45**  \n",
    "- **Best F1 score 最佳 F1 分數**: **0.757**  \n",
    "\n",
    "---\n",
    "\n",
    "### Visualization / 視覺化\n",
    "- The curve shows how F1-score changes with different thresholds.  \n",
    "- 曲線顯示 F1 分數隨著不同閾值的變化。  \n",
    "- The **red dashed line** marks the best threshold (0.45).  \n",
    "- **紅色虛線** 標記了最佳閾值 (0.45)。  \n",
    "\n",
    "---\n",
    "\n",
    "### Conclusion / 結論\n",
    "- Using a threshold of **0.45** instead of the default 0.5 improves the model’s balance between precision and recall.  \n",
    "- 使用 **0.45** 而不是預設的 0.5，能讓模型在精確率與召回率之間取得更佳平衡。  \n",
    "- This adjustment increases the **F1-score to 0.757**, meaning better overall performance on imbalanced churn prediction.  \n",
    "- 此調整將 **F1 分數提升至 0.757**，代表模型在不平衡的流失預測任務上有更佳的整體表現。  "
   ]
  },
  {
   "cell_type": "code",
   "execution_count": null,
   "metadata": {},
   "outputs": [],
   "source": [
    "# Train the model\n",
    "log_reg = LogisticRegression(max_iter=1000, random_state=42)\n",
    "log_reg.fit(X_train, y_train)\n",
    "\n",
    "# predictions\n",
    "proba_log = log_reg.predict_proba(X_test)[:, 1]\n",
    "\n",
    "# Compare original XGBoost vs tuned XGBoost\n",
    "proba_xgb_original = model_xgb.predict_proba(X_test)[:, 1]\n",
    "proba_xgb_tuned = model_xgb_final.predict_proba(X_test)[:, 1]\n"
   ]
  },
  {
   "cell_type": "code",
   "execution_count": null,
   "metadata": {},
   "outputs": [],
   "source": [
    "# Compare Precision–Recall Curves: Logistic Regression vs XGBoost\n",
    "from sklearn.metrics import precision_recall_curve, average_precision_score\n",
    "\n",
    "# 1) Predict probabilities for the positive class\n",
    "proba_log = log_reg.predict_proba(X_test)[:, 1]\n",
    "proba_xgb = model_xgb.predict_proba(X_test)[:, 1]\n",
    "\n",
    "# 2) Compute PR points and Average Precision\n",
    "prec_log, rec_log, _ = precision_recall_curve(y_test, proba_log)\n",
    "prec_xgb, rec_xgb, _ = precision_recall_curve(y_test, proba_xgb)\n",
    "\n",
    "ap_log = average_precision_score(y_test, proba_log)\n",
    "ap_xgb = average_precision_score(y_test, proba_xgb)\n",
    "\n",
    "# 3) Plot\n",
    "plt.figure(figsize=(8, 6))\n",
    "plt.plot(rec_log, prec_log, label=f'Logistic Regression (AP = {ap_log:.3f})')\n",
    "plt.plot(rec_xgb, prec_xgb, label=f'XGBoost (AP = {ap_xgb:.3f})')\n",
    "plt.xlabel('Recall')\n",
    "plt.ylabel('Precision')\n",
    "plt.title('Precision–Recall Curve: Logistic Regression vs XGBoost')\n",
    "plt.legend()\n",
    "plt.grid(True)\n",
    "plt.show()\n",
    "\n",
    "print(f\"Average Precision — Logistic Regression: {ap_log:.4f}\")\n",
    "print(f\"Average Precision — XGBoost:            {ap_xgb:.4f}\")"
   ]
  },
  {
   "cell_type": "markdown",
   "metadata": {},
   "source": [
    "## <span style=\"color:#1B4F72\">Precision-Recall Curve Comparison / Precision-Recall 曲線比較 </span>\n",
    "### Models Compared / 比較的模型\n",
    "- **<span style=\"color:#16A085\">\n",
    "Logistic Regression</span>**  \n",
    "- **<span style=\"color:#16A085\">\n",
    "XGBoost</span>**\n",
    "\n",
    "---\n",
    "\n",
    "### Results / 結果\n",
    "- **<span style=\"color:#16A085\">\n",
    "Average Precision (AP) 平均精確率</span>** \n",
    "  - Logistic Regression: **<span style=\"color:#E74C3C\">0.620</span>**  \n",
    "  - XGBoost: **<span style=\"color:#E74C3C\">0.847</span>**  \n",
    "\n",
    "---\n",
    "\n",
    "### Curve Interpretation / 曲線解讀\n",
    "- **<span style=\"color:#16A085\">\n",
    "Logistic Regression (Blue line)</span>**  \n",
    "  - Precision 逐漸下降，整體曲線較低。\n",
    "  - Precision gradually decreases, and the overall curve lies lower  \n",
    "  - 表現中等，AP = <span style=\"color:#E74C3C\">0.62</span>，說明它對不平衡數據的正類（流失客戶）識別能力有限。\n",
    "  - Moderate performance with AP = <span style=\"color:#E74C3C\">0.62</span>, indicating limited ability to identify the positive class (churned customers) in imbalanced data.  \n",
    "\n",
    "- **<span style=\"color:#16A085\">\n",
    "XGBoost (Orange line)</span>**  \n",
    "  - 曲線明顯優於 Logistic Regression，幾乎在所有 Recall 水準下都保持較高 Precision。\n",
    "  - The curve is clearly superior to Logistic Regression, maintaining higher precision across almost all recall levels.\n",
    "  - AP = <span style=\"color:#E74C3C\">0.847</span>，顯示其在流失預測這種不平衡任務上的表現更穩定與準確。\n",
    "  - AP = <span style=\"color:#E74C3C\">0.847</span>, showing more stable and accurate performance in imbalanced churn prediction tasks.\n",
    " \n",
    "\n",
    "---\n",
    "\n",
    "### Conclusion / 結論\n",
    "- **<span style=\"color:#16A085\">\n",
    "XGBoost is clearly superior to Logistic Regression</span>**：  \n",
    "  - 它能在保持高 Precision 的同時維持更高的 Recall。\n",
    "  - It maintains higher recall while keeping precision high.  \n",
    "  - AP 值顯著較高 <span style=\"color:#E74C3C\">(0.847 vs 0.620)</span>。\n",
    "  - AP is significantly higher <span style=\"color:#E74C3C\">(0.847 vs 0.620)</span>\n",
    "- **<span style=\"color:#16A085\">\n",
    "商業應用層面</span>**：  \n",
    "  - Logistic Regression 雖然簡單可解釋，但在實務上可能錯失較多流失客戶。\n",
    "  - Logistic Regression, while simple and interpretable, may miss many churned customers in practice.  \n",
    "  - XGBoost 在精確率與召回率間提供更好的平衡，更適合用於客戶流失預測。\n",
    "  - XGBoost offers a better balance between precision and recall, making it more suitable for churn prediction.  "
   ]
  },
  {
   "cell_type": "markdown",
   "metadata": {},
   "source": [
    "# <span style=\"color:#1B4F72\">Project Report / 專案報告</span>\n",
    "\n",
    "---\n",
    "\n",
    "## 1. Plan Steps / 計畫步驟\n",
    "\n",
    "### Executed / 已執行\n",
    "- **<span style=\"color:#16A085\">Data loading & preprocessing</span>** / 資料載入與前處理  \n",
    "- **<span style=\"color:#16A085\">Column cleaning & merging</span>** / 欄位清理與合併  \n",
    "- **<span style=\"color:#16A085\">Feature engineering (is_active, encoding)</span>** / 特徵工程  \n",
    "- **<span style=\"color:#16A085\">Model training (LogReg, Decision Tree, RF, XGBoost)</span>** / 模型訓練  \n",
    "- **<span style=\"color:#16A085\">Model evaluation (Accuracy, F1, ROC-AUC)</span>** / 模型評估  \n",
    "\n",
    "### Skipped / 跳過或簡化\n",
    "- **<span style=\"color:#16A085\">Limited EDA</span>** / 探索性分析有限  \n",
    "- **<span style=\"color:#16A085\">Basic hyperparameter tuning</span>** / 超參數調整僅基礎嘗試  \n",
    "\n",
    "---\n",
    "\n",
    "## 2. Difficulties & Solutions / 困難與解法\n",
    "- **<span style=\"color:#16A085\">totalcharges as object → convert & impute</span>**  \n",
    "  object 型別 → 數值轉換 & 中位數補缺  \n",
    "\n",
    "- **<span style=\"color:#16A085\">Date columns not usable → to_datetime()</span>**  \n",
    "  日期需轉換成 datetime 格式  \n",
    "\n",
    "- **<span style=\"color:#16A085\">Risk of leakage from enddate → redefine target</span>**  \n",
    "  避免用 enddate，改用 is_active  \n",
    "\n",
    "- **<span style=\"color:#16A085\">High-card categorical vars → OHE + scaling</span>**  \n",
    "  高基數類別 → OneHotEncoder + StandardScaler  \n",
    "\n",
    "---\n",
    "\n",
    "## 3. Key Steps / 解題關鍵\n",
    "- **<span style=\"color:#16A085\">Merge datasets on customerid</span>** / 整合多表格  \n",
    "- **<span style=\"color:#16A085\">Define churn target is_active</span>** / 定義流失目標  \n",
    "- **<span style=\"color:#16A085\">Preprocess: encoding, scaling</span>** / 前處理  \n",
    "- **<span style=\"color:#16A085\">Baseline models: LogisticRegression</span>**, **<span style=\"color:#16A085\">Random Forest Classifier</span>** / 基準模型  \n",
    "- **<span style=\"color:#16A085\">Advanced model: XGBoost</span>** / 進階模型  \n",
    "\n",
    "---\n",
    "\n",
    "## 4. Final Model & Results / 最終模型與成果\n",
    "- Model / 模型: **<span style=\"color:#16A085\">XGBoost</span>**\n",
    "- Metrics / 指標:  \n",
    "  - **<span style=\"color:#16A085\">Accuracy</span>** ≈ <span style=\"color:#E74C3C\">0.828</span> \n",
    "  - **<span style=\"color:#16A085\">F1-score</span>** ≈ <span style=\"color:#E74C3C\">0.757</span>\n",
    "  - **<span style=\"color:#16A085\">ROC-AUC</span>** ≈ <span style=\"color:#E74C3C\">0.88</span> \n",
    "\n",
    "### Conclusion / 結論\n",
    "- **<span style=\"color:#16A085\">Strong predictive power, meets project goal</span>**\n",
    "- 預測能力良好，符合專案需求  "
   ]
  },
  {
   "cell_type": "code",
   "execution_count": null,
   "metadata": {},
   "outputs": [],
   "source": [
    "<div class=\"alert alert-block alert-success\">\n",
    "<b>Reviewer's comment</b> <a class=\"tocSkip\"></a>\n",
    "Overall good report. \n",
    "</div>"
   ]
  }
 ],
 "metadata": {
  "kernelspec": {
   "display_name": "Python 3 (ipykernel)",
   "language": "python",
   "name": "python3"
  },
  "language_info": {
   "codemirror_mode": {
    "name": "ipython",
    "version": 3
   },
   "file_extension": ".py",
   "mimetype": "text/x-python",
   "name": "python",
   "nbconvert_exporter": "python",
   "pygments_lexer": "ipython3",
   "version": "3.9.23"
  }
 },
 "nbformat": 4,
 "nbformat_minor": 4
}
